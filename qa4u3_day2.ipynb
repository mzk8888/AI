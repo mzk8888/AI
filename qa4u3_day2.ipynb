{
  "nbformat": 4,
  "nbformat_minor": 0,
  "metadata": {
    "colab": {
      "private_outputs": true,
      "provenance": [],
      "include_colab_link": true
    },
    "kernelspec": {
      "name": "python3",
      "display_name": "Python 3"
    },
    "language_info": {
      "name": "python"
    }
  },
  "cells": [
    {
      "cell_type": "markdown",
      "metadata": {
        "id": "view-in-github",
        "colab_type": "text"
      },
      "source": [
        "<a href=\"https://colab.research.google.com/github/mzk8888/AI/blob/main/qa4u3_day2.ipynb\" target=\"_parent\"><img src=\"https://colab.research.google.com/assets/colab-badge.svg\" alt=\"Open In Colab\"/></a>"
      ]
    },
    {
      "cell_type": "markdown",
      "source": [
        "それでは量子アニーリングを利用したアプリ開発、サービス開発の実践に向けて初めていきましょう。\n",
        "量子アニーリングを用いた、それこそ実機を用いた解析には必須のライブラリのインストールです。pythonによるプログラミング開発ではpip installで必要なライブラリを準備してから始めます。\n",
        " （こうした呪文であらかじめ頭のいい人がプログラムしたものを呼び出すことができます） 今回の場合ですと、dwave-ocean-sdkをインストールすることになります。"
      ],
      "metadata": {
        "id": "XBNUhIdukWsy"
      }
    },
    {
      "cell_type": "code",
      "execution_count": null,
      "metadata": {
        "id": "drxD_nF9GFdS"
      },
      "outputs": [],
      "source": [
        "pip install dwave-ocean-sdk"
      ]
    },
    {
      "cell_type": "markdown",
      "source": [
        "ご自身のローカル環境へインストールする際も同様の手順で差し支えありません。 （ただし環境によってうまくインストールできるかどうかはわかりませんので、適宜ご対応いただければと思います） これでD-Wave Systemsの量子アニーリングマシンを利用することができる準備が整いました。 たったこれだけの準備だてでOKです。"
      ],
      "metadata": {
        "id": "gwRQilpclKsk"
      }
    },
    {
      "cell_type": "markdown",
      "source": [
        "## 量子アニーリングマシンの目的\n",
        "\n",
        "量子アニーリングマシンは、「組合せ最適化問題」を解くために生まれた、まさに未来を感じさせるマシンです！  \n",
        "最適化問題と聞くと「うわ、数学だ…」と身構えるかもしれません。でも実は、これって中学・高校でやった「最大値・最小値を求めなさい」といった問題の発展版なんです。  \n",
        "\n",
        "たとえば、将来の収入を予測する関数があれば、それを最大化したいですよね。逆に、将来の苦労を予測する関数なら、それを最小化して楽な人生を送りたい！  \n",
        "こういった考え方を量子アニーリングマシンは、自然の力を利用して実現してくれるんです。\n",
        "\n",
        "## 量子アニーリングマシンが挑む「関数の最小化」\n",
        "\n",
        "量子アニーリングでは、次のような関数の最小値と、そのときのベストな「x」を探してくれます。\n",
        "\n",
        "\\[\n",
        "E({\\bf x}) \\sum_{i=1}^N \\sum_{j=1}^N Q_{ij}x_ix_j\n",
        "\\]\n",
        "\n",
        "「シグマ記号」と聞いて「なんかカッコイイ！でも難しそう…」と思った方、大丈夫です！要するに「全部足し算してるだけ」です。添え字とか記号は「選択肢がいくつかあるよ」ということを端的に表しているだけなんですよ。  \n",
        "\n",
        "こういった関数を最小化する問題を、「制約なし2値の2次計画問題」と呼びます。英語だと **QUBO** (Quadratic Unconstrained Binary Optimization) といいます。  \n",
        "この最小化の対象となる関数は「コスト関数」と呼ばれ、量子アニーリングマシンにとっては解決すべきお題のようなものなんです。\n",
        "\n",
        "## 量子アニーリングマシンに命令を送る方法\n",
        "\n",
        "量子アニーリングマシンに解かせたい問題を指示するには、「QUBO行列」というものを作って送ります。この行列は、問題の要素をギュッと詰め込んだ指令書のようなもの。量子アニーリングマシンは、この指令書を受け取って計算を始めます。  \n",
        "\n",
        "ちなみに、このQUBO行列を作るときに使える便利ツールが **Python** のライブラリ「numpy」です。これを使えば、行列もサクッと準備できます！\n",
        "\n",
        "## D-Wave Leapに登録してみよう！\n",
        "\n",
        "量子アニーリングマシンを実際に使うには、まずアカウント登録が必要です！  \n",
        "以下のリンクにアクセスして、メールアドレスや所属などを入力してアカウントを作りましょう。  \n",
        "\n",
        "[D-Wave Leap](https://cloud.dwavesys.com/leap/)  \n",
        "https://cloud.dwavesys.com/leap/\n",
        "\n",
        "登録が済んだら、左下に表示されている **API Token** をコピーしておきましょう。このトークンが、量子アニーリングマシンとやり取りをするためのカギになります。  \n",
        "\n",
        "すでにD-Wave Leapの試用期間が終わってしまった方も大丈夫！**QA4U3** に参加登録すれば、新しい無料マシンタイムが手に入るので安心してくださいね。\n",
        "\n",
        "## 簡単な問題を解かせてみよう！\n",
        "\n",
        "アカウント登録が完了したら、いよいよ量子アニーリングマシンに問題を投げかけてみましょう！  \n",
        "問題を送るときは、先ほど紹介した **QUBO行列** を作って、それをカナダにある量子アニーリングマシンに送信するだけです。  \n",
        "\n",
        "Python の **numpy** を使えば、行列作成はとっても簡単。まずはそうしたライブラリを利用するための準備です。importしましょう！\n"
      ],
      "metadata": {
        "id": "vb06nEYWlk9h"
      }
    },
    {
      "cell_type": "code",
      "source": [
        "import numpy as np"
      ],
      "metadata": {
        "id": "oWE4Yw_smmea"
      },
      "execution_count": null,
      "outputs": []
    },
    {
      "cell_type": "markdown",
      "source": [
        "次に簡単な例として、10×10行列によるQUBOを考えてみます。 np.random.randn()は、平均0、分散1のガウス分布に従う乱数を生成するという関数です。\n",
        "それをN**2=100個作ったのち、reshape(N,N)として、10×10の行列の形にします。"
      ],
      "metadata": {
        "id": "rKqjQ_ZumltG"
      }
    },
    {
      "cell_type": "code",
      "source": [
        "#変数の数を10個に指定します\n",
        "N = 10\n",
        "#QUBO行列を作ります\n",
        "QUBO = np.random.randn(N**2).reshape(N,N)\n",
        "#細かいことですが、対称行列にしましょう。\n",
        "QUBO = (QUBO + QUBO.T)/2"
      ],
      "metadata": {
        "id": "PYkZa1xWfSf8"
      },
      "execution_count": null,
      "outputs": []
    },
    {
      "cell_type": "markdown",
      "source": [
        "ここでQUBO+QUBO.Tというところで、.Tというコマンドで転置をとっています。 行列の形を対称な形にするためです（細かいことですがたまに忘れます） どんな値になっているのか調べたい人はprint等を利用して調べてみると良いでしょう。\n",
        "\n",
        "さてこうした下準備が終わりましたら、量子アニーリングマシンに投入してみましょう。 これだけで準備完了です。 まずは先ほど取得したAPI tokenを準備します。"
      ],
      "metadata": {
        "id": "XXjRxtHpmhlh"
      }
    },
    {
      "cell_type": "code",
      "source": [
        "token = 'XX'  # 個人のAPI tokenを使用"
      ],
      "metadata": {
        "id": "4PINxB4Pm91j"
      },
      "execution_count": null,
      "outputs": []
    },
    {
      "cell_type": "markdown",
      "source": [
        "続けて量子アニーリングマシンを呼び出す関数をいくつか用意します"
      ],
      "metadata": {
        "id": "ncYOKTP3m-Re"
      }
    },
    {
      "cell_type": "code",
      "source": [
        "from dwave.system import DWaveSampler, EmbeddingComposite"
      ],
      "metadata": {
        "id": "K5nAfQCvf2_i"
      },
      "execution_count": null,
      "outputs": []
    },
    {
      "cell_type": "markdown",
      "source": [
        "**from dwave.system**とあるのはOcean SDKのdwave.systemの中からということです。\n",
        "\n",
        "**import DWaveSampler**でDWaveSamplerという関数を呼び出しており、 これは量子アニーリングを行うQPUチップを利用する関数です。\n",
        "\n",
        "**import EmbeddingComposite**でEmbeddingCompositeという関数を呼び出しています。 これは用意したQUBO行列をQPUチップに埋め込むための関数です。"
      ],
      "metadata": {
        "id": "2bXVaV6gnDQV"
      }
    },
    {
      "cell_type": "code",
      "source": [
        "dw_sampler = DWaveSampler(solver='Advantage_system4.1', token=token)"
      ],
      "metadata": {
        "id": "dsKziffZhZOG"
      },
      "execution_count": null,
      "outputs": []
    },
    {
      "cell_type": "markdown",
      "source": [
        "ここでsolver=というオプションで、どの量子アニーリングマシンを使うのかを指定することができます。 最新式の量子アニーリングマシンはD-Wave Advantageであり、それを利用する場合には solver = 'Advantage_system4.1'としましょう。 前の形式の量子アニーリングマシンであるD-Wave 2000Qを利用する場合には solver = 'DW_2000Q_6'としましょう。 さらに次世代の量子アニーリングマシン用のプロトタイプのチップも利用できます。 その場合には、 solver = 'Advantage2_prototype2.6' とします。\n",
        "\n",
        "次におまじない的ですが、QUBO行列をQPUに埋め込むための作業を行うために EmbeddingCompositeという機能を付与します。"
      ],
      "metadata": {
        "id": "1StfZpYsnO6J"
      }
    },
    {
      "cell_type": "code",
      "source": [
        "sampler = EmbeddingComposite(dw_sampler)"
      ],
      "metadata": {
        "id": "eSytTvxyhbmW"
      },
      "execution_count": null,
      "outputs": []
    },
    {
      "cell_type": "markdown",
      "source": [
        "これでみなさんのQUBO行列をなんでも埋め込めるようになりました。 回路の限界はありますが、できるかぎりQUBO行列をQPUチップに載せてくれます。 それでは早速量子アニーリングマシンに問題を投入しましょう。 以下のコマンドでOKです。その際にnum_readsで何回量子アニーリングを実行するのかを指定しましょう。"
      ],
      "metadata": {
        "id": "y2t7IrTknRTc"
      }
    },
    {
      "cell_type": "code",
      "source": [
        "sampleset = sampler.sample_qubo(QUBO, num_reads=10)"
      ],
      "metadata": {
        "id": "BZmip1uqh6ZV"
      },
      "execution_count": null,
      "outputs": []
    },
    {
      "cell_type": "markdown",
      "source": [
        "このコマンドを実行すると、カナダに問題が送信されます。順次彼方では量子アニーリングマシンが他のジョブとともに次々に組合せ最適化問題を解き、その結果を記録しています。 私たちはその結果を取得する必要があります。 そのために行うのが、samplesetの実行です。 例えばどんな結果が出てきたのかをみたいときにはsampleset.recordなどを打つと良いでしょう。"
      ],
      "metadata": {
        "id": "TUEQyZfQnSAB"
      }
    },
    {
      "cell_type": "code",
      "source": [
        "print(sampleset.record)"
      ],
      "metadata": {
        "id": "X8DJb8UTjKzC"
      },
      "execution_count": null,
      "outputs": []
    },
    {
      "cell_type": "markdown",
      "source": [
        "いくつか数値が並んでいますが、最初にある0,1のリスト（たくさんの数字の要素が並んでカッコでまとめられているもの）が結果です。\n",
        "次にある数値がエネルギー、これはコスト関数の値が実際どのような値になるのかがわかると言うものです。次に出てくる整数値は何回その結果が出てきたと言うものです。最後にある数値はチェーンブレイクしている割合です。詳しくはのちに回しますが、要するに答えの信頼が崩れている度合いです。"
      ],
      "metadata": {
        "id": "Tu0oDs19nob5"
      }
    },
    {
      "cell_type": "markdown",
      "source": [
        "## モードを切り替える\n",
        "\n",
        "実行する目的によってはanswer_modeを変えると良いでしょう。今の場合、同じ結果が何回出たのか頻度がわかりやすい形です。num_reads回実行したら、その順番でどんな結果が出たのかが見たいときもあります。その場合にはanswer_mode=\"raw\"とします。"
      ],
      "metadata": {
        "id": "dp2rNemPpqpe"
      }
    },
    {
      "cell_type": "code",
      "source": [
        "sampleset = sampler.sample_qubo(QUBO, num_reads=100, answer_mode = \"raw\")"
      ],
      "metadata": {
        "id": "LqQ2aKb8p_KY"
      },
      "execution_count": null,
      "outputs": []
    },
    {
      "cell_type": "markdown",
      "source": [
        "これで結果を出力すると同じ答えが出ていたとしても、まとめずに１つの結果として出力されます。\n"
      ],
      "metadata": {
        "id": "WrHKA-tkqC2C"
      }
    },
    {
      "cell_type": "code",
      "source": [
        "print(sampleset.record)"
      ],
      "metadata": {
        "id": "C7fD8qyEqKE0"
      },
      "execution_count": null,
      "outputs": []
    },
    {
      "cell_type": "markdown",
      "source": [
        "このanswer_modeですと、コスト関数がどのような値を取っていたのか、その頻度をプロットしたヒストグラムを描くのに便利です。エネルギーだけのリスト（numpy.array）を取得するためにはsampleset.data_vectors[\"energy\"] を利用します。"
      ],
      "metadata": {
        "id": "38pdQ4ofnWre"
      }
    },
    {
      "cell_type": "code",
      "source": [
        "import matplotlib.pyplot as plt\n",
        "ene = sampleset.data_vectors[\"energy\"]\n",
        "plt.hist(ene, bins=20)\n",
        "plt.show()"
      ],
      "metadata": {
        "id": "JlL3PAoQqVBk"
      },
      "execution_count": null,
      "outputs": []
    },
    {
      "cell_type": "markdown",
      "source": [
        "それではこれを残しておいて、別のQPUでも試してみて、性能を比較してみましょう。 このノートブックではAdvantage6.1とAdvantage2_prototype1.1を比較してみます。"
      ],
      "metadata": {
        "id": "bl4lgnNTqYvR"
      }
    },
    {
      "cell_type": "code",
      "source": [
        "dw_sampler2 = DWaveSampler(solver='Advantage2_prototype2.6', token=token)\n",
        "sampler2 = EmbeddingComposite(dw_sampler2)\n",
        "sampleset2 = sampler2.sample_qubo(QUBO, num_reads=100, answer_mode = \"raw\")"
      ],
      "metadata": {
        "id": "Cw9QyoAfqdJ4"
      },
      "execution_count": null,
      "outputs": []
    },
    {
      "cell_type": "markdown",
      "source": [
        "D-Waveマシンを使う関数群については一気に利用してみました。 それぞれ変数名等を2と付してあります。"
      ],
      "metadata": {
        "id": "q6PsPRFGqj-D"
      }
    },
    {
      "cell_type": "code",
      "source": [
        "ene2 = sampleset2.data_vectors[\"energy\"]\n",
        "plt.hist(ene2, bins=20)\n",
        "plt.show()"
      ],
      "metadata": {
        "id": "ZFeJN_N1qilc"
      },
      "execution_count": null,
      "outputs": []
    },
    {
      "cell_type": "markdown",
      "source": [
        "おそらく結果が異なる傾向にあると思います。 せっかくですので重ねて比較してみましょう。 range=(min,max)で範囲を揃えて描くと綺麗に仕上がります。"
      ],
      "metadata": {
        "id": "ixioQ0M7qqGN"
      }
    },
    {
      "cell_type": "code",
      "source": [
        "plt.hist(ene, bins=20, alpha=0.5,range=(-9.5,-7.5))\n",
        "plt.hist(ene2, bins=20, alpha=0.5,range=(-9.5,-7.5))\n",
        "plt.show()"
      ],
      "metadata": {
        "id": "DVUE51FtqpdL"
      },
      "execution_count": null,
      "outputs": []
    },
    {
      "cell_type": "markdown",
      "source": [
        "これを見ますと（青が先に用意したもの、オレンジが後に用意したものです） Advantage2が優勢で、より低いエネルギーを持つ答えを得ることに成功しているのがわかります。"
      ],
      "metadata": {
        "id": "3DBe0jkvqs2R"
      }
    },
    {
      "cell_type": "markdown",
      "source": [
        "## わかりやすい例題で量子アニーリング！"
      ],
      "metadata": {
        "id": "oK5STHN2t5s5"
      }
    },
    {
      "cell_type": "markdown",
      "source": [
        "それではQUBOを今回はいじりまして、少し面白い例題に取り組みたいと思います。\n",
        "去年ノーベル物理学賞を受賞したホップフィールドで有名なホップフィールドネットワークです。\n",
        "ホップフィールドネットワークは画像に代表される0と1のパターン画像を想起する機能を持ちます。\n",
        "まずもとになる画像データを呼び出しましょう。\n",
        "それにはscikit-learnと呼ばれる機械学習ライブラリ群を利用します。"
      ],
      "metadata": {
        "id": "lgXDc2CfzRnU"
      }
    },
    {
      "cell_type": "code",
      "source": [
        "import matplotlib.pyplot as plt\n",
        "from sklearn.datasets import load_digits"
      ],
      "metadata": {
        "id": "16HHD_Rsj_XR"
      },
      "execution_count": null,
      "outputs": []
    },
    {
      "cell_type": "markdown",
      "source": [
        "ここでfrom sklearn.datasetからいくつかある公開データセットのうち、import load_digitsを利用して手書き文字のデータセットを読み込みます。"
      ],
      "metadata": {
        "id": "59cY4fPU0GRo"
      }
    },
    {
      "cell_type": "code",
      "source": [
        "digit=load_digits()"
      ],
      "metadata": {
        "id": "TMnmBgFTk-MB"
      },
      "execution_count": null,
      "outputs": []
    },
    {
      "cell_type": "markdown",
      "source": [
        "digitという変数に手描き文字のデータが格納されます。"
      ],
      "metadata": {
        "id": "nOS-Yr5003iI"
      }
    },
    {
      "cell_type": "code",
      "source": [
        "K = 5\n",
        "ind = np.random.choice(len(digit.data), K, replace=False)"
      ],
      "metadata": {
        "id": "dCP508y-lBdL"
      },
      "execution_count": null,
      "outputs": []
    },
    {
      "cell_type": "markdown",
      "source": [
        "K=2と指定して2個のデータを読み込むことにします。あとで変えられるようにKにデータの個数を入れて指定できるようにしています。\n",
        "random.choiceで、全てのデータのうちK個だけ選び出します。何番目のデータを使うのかという数字を返すのがこの関数です。\n",
        "（replace=Falseで重複なしの数字が出てきます。同じ数字が出ない）"
      ],
      "metadata": {
        "id": "yGYPyf5d08X_"
      }
    },
    {
      "cell_type": "code",
      "source": [
        "data = digit.data[ind]"
      ],
      "metadata": {
        "id": "XqvbCPT2lLA5"
      },
      "execution_count": null,
      "outputs": []
    },
    {
      "cell_type": "markdown",
      "source": [
        "その数字のリスト（np.array形式）を入れるとその数で指定されたデータだけ抜き出します。\n",
        "dataを確認してみましょう。\n",
        "その際にイジング模型に即した-1と1ないしは0と1の2値画像に直します。"
      ],
      "metadata": {
        "id": "piMN_H8a1b74"
      }
    },
    {
      "cell_type": "code",
      "source": [
        "binary_data = np.where(data > np.mean(data), 1, 0)\n",
        "Ising_data = np.where(data > np.mean(data), 1, -1)"
      ],
      "metadata": {
        "id": "7ULtsqhPlV8_"
      },
      "execution_count": null,
      "outputs": []
    },
    {
      "cell_type": "markdown",
      "source": [
        "これを画像として眺めてみましょう。\n",
        "load_digitsで読み込まれるのは8×8のサイズの画像ですので合計64個の数字を持ったベクトルの形式で保存されています。\n",
        "こちらを縦横8のサイズにreshapeした上で、画像を表示してみましょう。\n",
        "plt.imshow()を利用します。"
      ],
      "metadata": {
        "id": "l943np_O1vyO"
      }
    },
    {
      "cell_type": "code",
      "source": [
        "N = 8\n",
        "for k in range(K):\n",
        "  plt.imshow(binary_data[k,:].reshape(N,N))\n",
        "  plt.show()"
      ],
      "metadata": {
        "id": "j23wKSvulbmH"
      },
      "execution_count": null,
      "outputs": []
    },
    {
      "cell_type": "markdown",
      "source": [
        "何やら手書き文字として認識できる数字が見られるかと思います。\n",
        "その数字をイジング模型に埋め込み、イジング模型に合わせて最適化したものから、画像が再現されることを見てみましょう。"
      ],
      "metadata": {
        "id": "CrJhbhOe-Zib"
      }
    },
    {
      "cell_type": "markdown",
      "source": [
        "それではホップフィールド模型の相互作用行列$J_{ij}$と磁場ベクトル$h_i$を組み立てていきます。\n",
        "まずホップフィールド模型は磁場は必要ありません。\n",
        "どちらかというと相互作用行列で画像などのパターンを記憶します。\n",
        "とりわけ他の画素値（スピン）とどのような関係にあったのか、隣同士のスピンとの相互作用によって決まるというわけです。\n",
        "そこで\n",
        "\n",
        "$J_{ij} = -\\frac{1}{K} \\sum_{p=1}^K S^p_i S^p_j$\n",
        "\n",
        "と相互作用行列$J_{ij}$に$S_i$画素値の積を入れていきます。\n",
        "異なるパターンは上付き添え字で区別することにします。\n"
      ],
      "metadata": {
        "id": "BXVNs3QjBijP"
      }
    },
    {
      "cell_type": "code",
      "source": [
        "import dimod"
      ],
      "metadata": {
        "id": "vYrqI-B0lpTx"
      },
      "execution_count": null,
      "outputs": []
    },
    {
      "cell_type": "markdown",
      "source": [
        "前回同様にイジング模型をQUBO形式に変形するdimodの機能を利用する準備をして、\n",
        "上記の数式の通りにJijにパターンを書き込みます。"
      ],
      "metadata": {
        "id": "uZLuBWUyC-V5"
      }
    },
    {
      "cell_type": "code",
      "source": [
        "Jmat = np.zeros([N*N,N*N])\n",
        "for k in range(K):\n",
        "  for i1 in range(N):\n",
        "    for j1 in range(N):\n",
        "      for i2 in range(N):\n",
        "        for j2 in range(N):\n",
        "          Jmat[i1+N*j1,i2+N*j2] -= Ising_data[k,i1+N*j1]*Ising_data[k,i2+N*j2]/K\n",
        "\n",
        "hvec = np.zeros(N*N)"
      ],
      "metadata": {
        "id": "zv9XAo3EmSwE"
      },
      "execution_count": null,
      "outputs": []
    },
    {
      "cell_type": "markdown",
      "source": [
        "上記と同じことをやるプログラムは以下のように簡潔に書くことができます。"
      ],
      "metadata": {
        "id": "bQ89v6e-t-Go"
      }
    },
    {
      "cell_type": "code",
      "source": [
        "Jmat = np.zeros([N*N,N*N])\n",
        "for k in range(K):\n",
        "  Jmat -= np.outer(Ising_data[k,:],Ising_data[k,:])/K\n",
        "\n",
        "hvec = np.zeros(N*N)"
      ],
      "metadata": {
        "id": "i2Pqd6ZPuBfA"
      },
      "execution_count": null,
      "outputs": []
    },
    {
      "cell_type": "markdown",
      "source": [
        "ここで大事なことは複数のパターンを$J_{ij}$に書き込んでいることです。\n",
        "また-1と+1の表示の方を利用しています。これは同じ画素が並んでいるかどうかを調べるのにイジング形式の方が向いているからです。\n",
        "ここでできた相互作用行列と磁場ベクトルをQUBOに直してもらいましょう。"
      ],
      "metadata": {
        "id": "SWVLgy2yDIOK"
      }
    },
    {
      "cell_type": "code",
      "source": [
        "model = dimod.BinaryQuadraticModel(hvec, Jmat, 0.0, vartype='SPIN')\n",
        "qubo, offset = model.to_qubo()"
      ],
      "metadata": {
        "id": "LXQDMqAsnUzL"
      },
      "execution_count": null,
      "outputs": []
    },
    {
      "cell_type": "markdown",
      "source": [
        "そうしてできたQUBOを量子アニーリングマシンに投げます。"
      ],
      "metadata": {
        "id": "X59vqqNLFUpR"
      }
    },
    {
      "cell_type": "code",
      "source": [
        "sampleset = sampler.sample_qubo(qubo, num_reads=10)"
      ],
      "metadata": {
        "id": "StX4HVbznzmT"
      },
      "execution_count": null,
      "outputs": []
    },
    {
      "cell_type": "markdown",
      "source": [
        "num_reads=10などと指定して、いくつかの結果をサンプリング（実際に試しに出力する）してみましょう。\n",
        "その結果を同じように画像として出力して出来栄えを見てみることにします。"
      ],
      "metadata": {
        "id": "gB3p0kmiFanQ"
      }
    },
    {
      "cell_type": "code",
      "source": [
        "for k in range(len(sampleset.record)):\n",
        "  res_image = sampleset.record[k][0]\n",
        "  plt.imshow(res_image.reshape(N,N))\n",
        "  plt.show()"
      ],
      "metadata": {
        "id": "Ik938T6OoI8e"
      },
      "execution_count": null,
      "outputs": []
    },
    {
      "cell_type": "markdown",
      "source": [
        "うまく出力できていることが見えるかと思います。\n",
        "複数の記憶を$J_{ij}$は記憶することができる。\n",
        "その記憶にもどついて想起することができる。\n",
        "現代風に言えば生成ができるということになります。\n",
        "幾つのパターンまで覚えられるのか、ソルバーごとに違いはないのか、など色々と気になるかと思います。"
      ],
      "metadata": {
        "id": "qGchhk_5FrqF"
      }
    },
    {
      "cell_type": "markdown",
      "source": [
        "## ボルツマンマシン\n",
        "\n",
        "さてホップフィールド模型と同時期に出たのがこれまたノーベル物理学賞を受賞することになったヒントンさんの提案したボルツマンマシンです。\n",
        "$J_{ij}$にうまく情報を載せれば復元可能ということがホップフィールド模型で確認ができました。\n",
        "これはいわばエネルギーに情報を直接書き込んだとも言えます。最適解の形を作ったということになります。\n",
        "一方でとにかく量子アニーリングマシン（シミュレータでもOK）から出力されるものが画像と一致してくれれば良いですよね。\n",
        "ということで$J_{ij}$や$h_{i}$をうまく調整するパラメータとして「動かす」ことを考えて出力結果をコントロールしましょう。\n",
        "その出力結果が手書き文字の画像データの傾向に合えば以降量子アニーリングマシンは手書き文字画像データの出力マシンとなります。\n"
      ],
      "metadata": {
        "id": "61jyjQFJKBjw"
      }
    },
    {
      "cell_type": "code",
      "source": [
        "from dwave.system import FixedEmbeddingComposite"
      ],
      "metadata": {
        "id": "E43tFUthTWaD"
      },
      "execution_count": null,
      "outputs": []
    },
    {
      "cell_type": "markdown",
      "source": [
        "このFixedEmbeddingCompositeが埋め込みを指定して固定できるソルバーです。\n",
        "埋め込みはどんなQUBOを使いたいのかを指定したら自動的にできますので\n",
        "ホップフィールド模型で用意したQUBOを埋め込むことのできる埋め込みを探しましょう。"
      ],
      "metadata": {
        "id": "wF1eSpljjWfb"
      }
    },
    {
      "cell_type": "code",
      "source": [
        "from minorminer import find_embedding"
      ],
      "metadata": {
        "id": "sxCiCiNVjqr_"
      },
      "execution_count": null,
      "outputs": []
    },
    {
      "cell_type": "markdown",
      "source": [
        "このmninorminerに含まれるfind_embeddingで量子回路に皆さんが用意したQUBOを埋め込む方法を発見してくれます。"
      ],
      "metadata": {
        "id": "b1MfszOcjrQI"
      }
    },
    {
      "cell_type": "code",
      "source": [
        "adj = {}\n",
        "for k in qubo.keys():\n",
        "  adj[k] = 1\n",
        "embedding = find_embedding(adj, dw_sampler.edgelist)"
      ],
      "metadata": {
        "id": "OZdWwErsjxfx"
      },
      "execution_count": null,
      "outputs": []
    },
    {
      "cell_type": "markdown",
      "source": [
        "まず隣接行列と呼ぶのですが、QUBOに含まれるkeysに従い1を立てます。\n",
        "これはQUBO行列に数字が埋め込まれているペアを特定するkeysを利用して、どことどこの手を結んで欲しいのかリクエストしています。\n",
        "その情報に基づきfind_embeddingをします。ここでdw_sampler.edgelistで実際にどのペアが量子回路上に生き残っているのかを参考にして載せていってくれます。"
      ],
      "metadata": {
        "id": "1Dj-derpj0Sm"
      }
    },
    {
      "cell_type": "markdown",
      "source": [
        "出来上がったembeddingを参考に埋め込みをしましょう。\n",
        "FixedEmbeddingCompositeで固定したembeddingを実施してsamplerを独自に作成することができます。"
      ],
      "metadata": {
        "id": "zGbxq_BDm6Bv"
      }
    },
    {
      "cell_type": "code",
      "source": [
        "sampler = FixedEmbeddingComposite(dw_sampler, embedding)"
      ],
      "metadata": {
        "id": "GFUD1YKTm4gt"
      },
      "execution_count": null,
      "outputs": []
    },
    {
      "cell_type": "markdown",
      "source": [
        "これで固定された埋め込みのもとサンプリングを実行するのはいつも通りです。"
      ],
      "metadata": {
        "id": "G_HSkXvJiXBC"
      }
    },
    {
      "cell_type": "code",
      "source": [
        "num_reads = 10\n",
        "sampleset = sampler.sample_qubo(qubo, num_reads=num_reads, answer_mode = \"raw\")"
      ],
      "metadata": {
        "id": "ohbPIZldnJwk"
      },
      "execution_count": null,
      "outputs": []
    },
    {
      "cell_type": "markdown",
      "source": [
        "読み出し回数を決めてサンプリングを実行してみました。\n",
        "大丈夫ですね。実際に出来上がった画像も見てみましょう。"
      ],
      "metadata": {
        "id": "zUR6224nnMbN"
      }
    },
    {
      "cell_type": "code",
      "source": [
        "for k in range(num_reads):\n",
        "  plt.imshow(sampleset.record[k].sample.reshape(N,N))\n",
        "  plt.show()"
      ],
      "metadata": {
        "id": "s_1sibEEoHY6"
      },
      "execution_count": null,
      "outputs": []
    },
    {
      "cell_type": "markdown",
      "source": [
        "まだこの時点では先ほどのホップフィールド模型の設定が残っています。\n",
        "それではデータとモデルの出力を合わせるということを考えてみましょう。\n",
        "相互作用$J_{ij}$を変えると隣との関係、磁場$h_i$を変えると単独の画素の傾向が操作されます。\n",
        "どういうふうに変えたら良いのかを考えると、\n",
        "データとモデルのそれぞれ画素値と画素値のペアによる積を考えて、その差を見てみることにしましょう。"
      ],
      "metadata": {
        "id": "0vE67nTNoQ7M"
      }
    },
    {
      "cell_type": "markdown",
      "source": [
        "やることは1つ1つのペアごとに画素値の積をとります。\n",
        "これはホップフィールド模型と同じですね。"
      ],
      "metadata": {
        "id": "Xrxdy81Vt25w"
      }
    },
    {
      "cell_type": "code",
      "source": [
        "#data\n",
        "qubo_data = np.zeros((N*N,N*N))\n",
        "for k in range(K):\n",
        "  qubo_data = qubo_data + np.outer(binary_data[k,:],binary_data[k,:])/K\n",
        "qubo_data = qubo_data"
      ],
      "metadata": {
        "id": "Gr22NWOeozsd"
      },
      "execution_count": null,
      "outputs": []
    },
    {
      "cell_type": "markdown",
      "source": [
        "一方で量子アニーリングマシン（もしくはシミュレータ）側の出力結果でも同じものを計測してみます。"
      ],
      "metadata": {
        "id": "wLk2t21LxVT6"
      }
    },
    {
      "cell_type": "code",
      "source": [
        "qubo_model = np.zeros((N*N,N*N))\n",
        "for k in range(num_reads):\n",
        "  qubo_model = qubo_model + np.outer(sampleset.record[k][0],sampleset.record[k][0])/ num_reads\n",
        "qubo_model = qubo_model"
      ],
      "metadata": {
        "id": "7Ef2CFmKozn_"
      },
      "execution_count": null,
      "outputs": []
    },
    {
      "cell_type": "markdown",
      "source": [
        "これは毎回計算することになることが想定されます。\n",
        "なぜなら量子アニーリングマシンからの出力を見て、QUBO行列を変更してやり直しをする。\n",
        "そのやり直していく中で、データの傾向と量子アニーリングマシンが出した傾向を合わせていきます。\n",
        "このようにしてデータの傾向と合わせたイジング模型やQUBOを作る学習をボルツマンマシン学習、その結果得られたモデルをボルツマンマシンと呼びます。\n",
        "そこで自作関数という形で、上記の計算を実行できるものを用意しましょう。"
      ],
      "metadata": {
        "id": "5rQyr4XKzsuY"
      }
    },
    {
      "cell_type": "code",
      "source": [
        "def comp_model(sampleset,num_reads=num_reads):\n",
        "  qubo_model = np.zeros((N*N,N*N))\n",
        "  for k in range(num_reads):\n",
        "    qubo_model = qubo_model + np.outer(sampleset.record[k][0],sampleset.record[k][0])/ num_reads\n",
        "  return qubo_model"
      ],
      "metadata": {
        "id": "jN1qjd9P0S8l"
      },
      "execution_count": null,
      "outputs": []
    },
    {
      "cell_type": "markdown",
      "source": [
        "それでは準備をしましょう。\n",
        "まずは設定パラメータを用意します。\n",
        "何回更新をするかの回数、更新をする際にどの程度quboを動かすのか。\n",
        "最初のquboはどんな形にするか。\n"
      ],
      "metadata": {
        "id": "A58KqAyM157I"
      }
    },
    {
      "cell_type": "code",
      "source": [
        "Tall = 50\n",
        "eta = 0.1\n",
        "qubo = np.random.randn(N**4).reshape(N*N,N*N)\n",
        "qubo = qubo + qubo.T"
      ],
      "metadata": {
        "id": "GPnggD_Y2UjS"
      },
      "execution_count": null,
      "outputs": []
    },
    {
      "cell_type": "markdown",
      "source": [
        "次に今日のおさらいです。\n",
        "量子アニーリングマシンに埋め込みをするので、その埋め込みを決めておきましょう。\n",
        "その上で埋め込み結果を利用して自作サンプラーを作ります。\n"
      ],
      "metadata": {
        "id": "M3dQ5kUX2XOJ"
      }
    },
    {
      "cell_type": "code",
      "source": [
        "adj = {}\n",
        "for i in range(N*N):\n",
        "  for j in range(N*N):\n",
        "    adj[(i,j)] = 1\n",
        "embedding = find_embedding(adj, dw_sampler.edgelist)\n",
        "sampler = FixedEmbeddingComposite(dw_sampler, embedding)"
      ],
      "metadata": {
        "id": "LtsGZYQv2cTU"
      },
      "execution_count": null,
      "outputs": []
    },
    {
      "cell_type": "markdown",
      "source": [
        "何度か量子アニーリングを実行して、その結果を利用して量子アニーリングマシンからの出力傾向とデータの傾向の差を調べて、調整するプログラムを作ります。"
      ],
      "metadata": {
        "id": "IyVgokJK2wHR"
      }
    },
    {
      "cell_type": "code",
      "source": [
        "for t in range(Tall):\n",
        "  sampleset = sampler.sample_qubo(qubo, num_reads=num_reads, answer_mode = \"raw\")\n",
        "  qubo_model = comp_model(sampleset)\n",
        "  qubo = qubo - eta*(qubo_data - qubo_model)\n"
      ],
      "metadata": {
        "id": "Sy242IOvyyDp"
      },
      "execution_count": null,
      "outputs": []
    },
    {
      "cell_type": "markdown",
      "source": [
        "仕上がりを見てみましょう。\n",
        "そうすると画像がやはりうまく生成されている様子と\n",
        "ホップフィールド模型とは異なり、全く同じものではなく少し変化したものが色々と出ていることがわかります。\n",
        "これはガチっと相互作用行列を定めず微調整をしながらデータの傾向と量子アニーリングマシンの出力結果を合わせた結果です。\n",
        "これにより量子アニーリング独特の傾向を持ちつつ、データの傾向に合わせた画像生成装置が出来上がり！というわけです。"
      ],
      "metadata": {
        "id": "mfeQAndH4SRL"
      }
    },
    {
      "cell_type": "code",
      "source": [
        "for k in range(num_reads):\n",
        "  res_image = sampleset.record[k][0]\n",
        "  plt.imshow(res_image.reshape(N,N))\n",
        "  plt.show()"
      ],
      "metadata": {
        "id": "RbhRGSOHyhNA"
      },
      "execution_count": null,
      "outputs": []
    },
    {
      "cell_type": "markdown",
      "source": [
        "量子アニーリングマシンが次第に成長していく様子を見て見たいですね。\n",
        "いくつかの画像データを横並べして、それを繰り返し表示して進化の様子を見てみましょう。"
      ],
      "metadata": {
        "id": "6wYMEhMw4qI-"
      }
    },
    {
      "cell_type": "code",
      "source": [
        "for t in range(Tall):\n",
        "  sampleset = sampler.sample_qubo(qubo, num_reads=num_reads, answer_mode = \"raw\")\n",
        "  qubo_model = comp_model(sampleset)\n",
        "  qubo = qubo - eta*(qubo_data - qubo_model)\n",
        "\n",
        "  for k in range(10):\n",
        "    plt.subplot(1,10,k+1)\n",
        "    res_image = sampleset.record[k][0]\n",
        "    plt.imshow(res_image.reshape(N,N))\n",
        "  plt.show()"
      ],
      "metadata": {
        "id": "nXbYljAU43k-"
      },
      "execution_count": null,
      "outputs": []
    },
    {
      "cell_type": "code",
      "source": [],
      "metadata": {
        "id": "vr8vz-7YozlJ"
      },
      "execution_count": null,
      "outputs": []
    },
    {
      "cell_type": "markdown",
      "source": [],
      "metadata": {
        "id": "6d6tJkiviW8j"
      }
    },
    {
      "cell_type": "markdown",
      "source": [],
      "metadata": {
        "id": "zhGzUxDciW2I"
      }
    }
  ]
}