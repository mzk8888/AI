{
  "nbformat": 4,
  "nbformat_minor": 0,
  "metadata": {
    "colab": {
      "private_outputs": true,
      "provenance": [],
      "include_colab_link": true
    },
    "kernelspec": {
      "name": "python3",
      "display_name": "Python 3"
    },
    "language_info": {
      "name": "python"
    }
  },
  "cells": [
    {
      "cell_type": "markdown",
      "metadata": {
        "id": "view-in-github",
        "colab_type": "text"
      },
      "source": [
        "<a href=\"https://colab.research.google.com/github/mzk8888/AI/blob/main/qa4u3_day4.ipynb\" target=\"_parent\"><img src=\"https://colab.research.google.com/assets/colab-badge.svg\" alt=\"Open In Colab\"/></a>"
      ]
    },
    {
      "cell_type": "markdown",
      "source": [
        "今回はシミュレータメインで行きます。\n",
        "大量に計算を複数回実行しながら検討することが多いためです。\n",
        "さらにJij Inc.が用意したjijmodelingを利用した最適化問題のプログラムについて紹介します。まずはjijmodeling_transpilerをインストールしましょう。"
      ],
      "metadata": {
        "id": "v6trmShSG5Qq"
      }
    },
    {
      "cell_type": "code",
      "source": [
        "pip install jijmodeling_transpiler"
      ],
      "metadata": {
        "id": "nHOULIhj5uLt"
      },
      "execution_count": null,
      "outputs": []
    },
    {
      "cell_type": "markdown",
      "source": [
        "その後にいつものopenjijをインストールします。"
      ],
      "metadata": {
        "id": "XEdAoYQp50hr"
      }
    },
    {
      "cell_type": "code",
      "source": [
        "pip install openjij"
      ],
      "metadata": {
        "id": "0CQAi_gMkYEd"
      },
      "execution_count": null,
      "outputs": []
    },
    {
      "cell_type": "markdown",
      "source": [
        "インストールしたら必要なライブラリをして以下のようにimportしておきましょう。\n",
        "samplerもSASamplerを利用するということで準備しておきます。"
      ],
      "metadata": {
        "id": "PHCycllmIcf2"
      }
    },
    {
      "cell_type": "code",
      "source": [
        "import jijmodeling as jm\n",
        "import jijmodeling_transpiler as jmt\n",
        "from openjij import SASampler\n",
        "import numpy as np\n",
        "sampler = SASampler()"
      ],
      "metadata": {
        "id": "7CxOgpW9l2GI"
      },
      "execution_count": null,
      "outputs": []
    },
    {
      "cell_type": "markdown",
      "source": [
        "## 数分割問題\n",
        "\n",
        "2つのグループに与えられた数値を均等に割ることを考えます。\n",
        "これは例えば戦力とか財産とか色々なものを想定することができます。"
      ],
      "metadata": {
        "id": "xLcneIavPxu0"
      }
    },
    {
      "cell_type": "code",
      "source": [
        "N = 20"
      ],
      "metadata": {
        "id": "Uyx4DdaDPxVq"
      },
      "execution_count": null,
      "outputs": []
    },
    {
      "cell_type": "markdown",
      "source": [
        "合計で20個の候補の数値があるとしましょう。\n",
        "乱数によって決まった出鱈目な数値があるとします。\n",
        "これらをAグループなら1、Bグループなら0となるような$x_i$を用意します。"
      ],
      "metadata": {
        "id": "qAz2j8JZIjOD"
      }
    },
    {
      "cell_type": "code",
      "source": [
        "x = jm.BinaryVar('x', shape=(N, ))\n",
        "i = jm.Element('i', belong_to=(0, N))"
      ],
      "metadata": {
        "id": "tUyZjrNLP-Ar"
      },
      "execution_count": null,
      "outputs": []
    },
    {
      "cell_type": "markdown",
      "source": [
        "jijmodelingでは変数BinaryVarと添え字Elementを宣言して用意します。"
      ],
      "metadata": {
        "id": "vaFwxUCqIzW4"
      }
    },
    {
      "cell_type": "code",
      "source": [
        "W = jm.Placeholder('W',ndim = 1)"
      ],
      "metadata": {
        "id": "3IVo2pLbQEte"
      },
      "execution_count": null,
      "outputs": []
    },
    {
      "cell_type": "markdown",
      "source": [
        "出鱈目な数字を入れておく場所としてPlaceholderというものも用意します。\n",
        "ここに後から数字を入れるイメージです。"
      ],
      "metadata": {
        "id": "ogqucjS8I5Hw"
      }
    },
    {
      "cell_type": "code",
      "source": [
        "problem = jm.Problem('Number partition', sense=jm.ProblemSense.MINIMIZE)\n",
        "problem += (jm.sum(i,W[i]*x[i]) - jm.sum(i,W[i]*(1-x[i])))**2"
      ],
      "metadata": {
        "id": "cdS9BxpDQKBG"
      },
      "execution_count": null,
      "outputs": []
    },
    {
      "cell_type": "markdown",
      "source": [
        "次は最適化問題の設定です。\n",
        "QUBOを直接書くのでも良いですが、上記のように数式ベースで書くこともできます。\n",
        "シグマ記号の代わりに和を取るのだよ、ということでsum(i,...)など、\n",
        "和の添え字と内容を書きます。\n",
        "それをproblemに追加して最適化問題を定義します。"
      ],
      "metadata": {
        "id": "rxhdPd84I-5a"
      }
    },
    {
      "cell_type": "code",
      "source": [
        "problem"
      ],
      "metadata": {
        "id": "b969E0y1Qh-M"
      },
      "execution_count": null,
      "outputs": []
    },
    {
      "cell_type": "markdown",
      "source": [
        "どんな数式の最適化問題を解くことになったのか、problemから見ることができるのも嬉しい機能です。\n",
        "さてこの数式にWのところに具体的な数値を入れることにしましょう。"
      ],
      "metadata": {
        "id": "2PL8WldGJODQ"
      }
    },
    {
      "cell_type": "code",
      "source": [
        "Wvec = np.random.rand(N)\n",
        "instance_data = {'W': Wvec}"
      ],
      "metadata": {
        "id": "yttBeNIqQrSV"
      },
      "execution_count": null,
      "outputs": []
    },
    {
      "cell_type": "markdown",
      "source": [
        "これで準備完了です。\n",
        "おまじない的ですがjijmodelingで準備された最適化問題をquboに直してもらいます。"
      ],
      "metadata": {
        "id": "DnOBam9yJvDM"
      }
    },
    {
      "cell_type": "code",
      "source": [
        "compiled_model = jmt.core.compile_model(problem, instance_data, {})\n",
        "pubo_builder = jmt.core.pubo.transpile_to_pubo(compiled_model=compiled_model)\n",
        "qubo, const = pubo_builder.get_qubo_dict()"
      ],
      "metadata": {
        "id": "q9cVmK6WQmgp"
      },
      "execution_count": null,
      "outputs": []
    },
    {
      "cell_type": "markdown",
      "source": [
        "これで出力されたquboを利用すれば最適化問題をシミュレーテッドアニーリングないし量子アニーリング（しかも他のソルバーも利用できる）で解くことができます。"
      ],
      "metadata": {
        "id": "4NfijMeBJ3VF"
      }
    },
    {
      "cell_type": "code",
      "source": [
        "num_reads = 10\n",
        "sampler = SASampler()\n",
        "sampleset = sampler.sample_qubo(qubo, num_reads=num_reads)"
      ],
      "metadata": {
        "id": "F0h7xXD0Q1Ld"
      },
      "execution_count": null,
      "outputs": []
    },
    {
      "cell_type": "markdown",
      "source": [
        "もちろん結果を見るのも今まで通りで差し支えありません。"
      ],
      "metadata": {
        "id": "Um0lcu6wKGUq"
      }
    },
    {
      "cell_type": "code",
      "source": [
        "sampleset.record"
      ],
      "metadata": {
        "id": "Fs9ER-PGQ4lE"
      },
      "execution_count": null,
      "outputs": []
    },
    {
      "cell_type": "markdown",
      "source": [
        "ただこれもどこが0でどこが1なのか抽出できた方が便利なことがあります。\n",
        "それも以下のようなコードで見やすくすることができます。"
      ],
      "metadata": {
        "id": "iZax7VYQKJR2"
      }
    },
    {
      "cell_type": "code",
      "source": [
        "result = jmt.core.pubo.decode_from_openjij(sampleset, pubo_builder, compiled_model)"
      ],
      "metadata": {
        "id": "7EPL8gJJRwuH"
      },
      "execution_count": null,
      "outputs": []
    },
    {
      "cell_type": "markdown",
      "source": [
        "ここで得られたresultからresult.record.solution[\"x\"]とすればどこが1になっているのかが一目瞭然です。[\"x\"]の後に[0]なり[1]と打つと、最もエネルギーが低い結果から順に得ることができます（ソート済み）"
      ],
      "metadata": {
        "id": "f5GiBDpqKPTX"
      }
    },
    {
      "cell_type": "code",
      "source": [
        "result.record.solution[\"x\"][0][0][0]"
      ],
      "metadata": {
        "id": "g3aEBGmER2qP"
      },
      "execution_count": null,
      "outputs": []
    },
    {
      "cell_type": "markdown",
      "source": [
        "順番になっているので0番目の答えを抽出すると、一番エネルギーの低い結果が出てきます。さらに[0][0]とすると何番目のスピンが1として立ち上がっているのかがわかります。"
      ],
      "metadata": {
        "id": "_ry6ieNEStVk"
      }
    },
    {
      "cell_type": "markdown",
      "source": [
        "## グループ分けの最適化\n",
        "\n",
        "数分割問題を参考にして、グループに所属しているというのを$1$で、所属していないというのを$0$で表すものとします。\n",
        "$x_{ij}$でi番目の人をj番目のグループに入れるかどうかを決めるとしましょう。\n",
        "同じグループになる人同士では$C_{ii'}$という相性を示す係数がかかり、相性ができるだけ最大化されるようにしましょう。"
      ],
      "metadata": {
        "id": "TsaLG7ggJhP2"
      }
    },
    {
      "cell_type": "code",
      "source": [
        "N = 20\n",
        "M = 5"
      ],
      "metadata": {
        "id": "P2azptKVKCTB"
      },
      "execution_count": null,
      "outputs": []
    },
    {
      "cell_type": "markdown",
      "source": [
        "20人を5人のチームに分けます。\n",
        "Jij modelingによる記法で書いてみましょう。"
      ],
      "metadata": {
        "id": "B7GmlsCgKG--"
      }
    },
    {
      "cell_type": "code",
      "source": [
        "x = jm.BinaryVar('x', shape=(N, M))\n",
        "i1 = jm.Element('i1', belong_to=(0, N))\n",
        "i2 = jm.Element('i2', belong_to=(0, N))\n",
        "j = jm.Element('j', belong_to=(0, M))"
      ],
      "metadata": {
        "id": "QHT6tqjRJg34"
      },
      "execution_count": null,
      "outputs": []
    },
    {
      "cell_type": "markdown",
      "source": [
        "あとあとわかることですが添え字を複数利用するので、i1とi2としました。"
      ],
      "metadata": {
        "id": "1nYtglycNpzG"
      }
    },
    {
      "cell_type": "markdown",
      "source": [
        "次に係数を用意します。相性を示す係数を以下のようにPlaceholder（後から数値を入れる場所）として用意します。"
      ],
      "metadata": {
        "id": "mSxzefArKNwr"
      }
    },
    {
      "cell_type": "code",
      "source": [
        "C = jm.Placeholder('C',ndim = 2)"
      ],
      "metadata": {
        "id": "3-N-AV0MKPqa"
      },
      "execution_count": null,
      "outputs": []
    },
    {
      "cell_type": "markdown",
      "source": [
        "今回は添え字が2つあるのでndim=2というオプションとなります。"
      ],
      "metadata": {
        "id": "M41Qw26xSQeZ"
      }
    },
    {
      "cell_type": "markdown",
      "source": [
        "ちなみにjijmodelingでは最小化だけではなく最大化も式をいじることなく指定することができます。\n",
        "相性を最大化することにしましょう。"
      ],
      "metadata": {
        "id": "Xt-3ySJMrL4u"
      }
    },
    {
      "cell_type": "code",
      "source": [
        "problem = jm.Problem('Grouping', sense=jm.ProblemSense.MAXIMIZE)\n",
        "problem += jm.sum([i1,i2,j], C[i1,i2]*x[i1,j]*x[i2,j])\n",
        "problem += jm.Constraint(\"one group\",  jm.sum(j,x[i1,j]) == 1, forall=i1)"
      ],
      "metadata": {
        "id": "_lG9xcOaK0Es"
      },
      "execution_count": null,
      "outputs": []
    },
    {
      "cell_type": "markdown",
      "source": [
        "ここで制約条件というものを追加しました。Constraintです。\n",
        "jについての和ですから、グループ全てで和を取ると、どれか1つのグループにいるように、という指示をしています。\n",
        "これが各人に適用されるのでforall=i1というオプションをつけています。\n",
        "出来上がったモデルの数式を眺めてみましょう。"
      ],
      "metadata": {
        "id": "mzZbTzjOSKEz"
      }
    },
    {
      "cell_type": "code",
      "source": [
        "problem"
      ],
      "metadata": {
        "id": "hY-P57v2LeRl"
      },
      "execution_count": null,
      "outputs": []
    },
    {
      "cell_type": "markdown",
      "source": [
        "さて適当な乱数で相性を計算して入れてみましょう。"
      ],
      "metadata": {
        "id": "IxA7gdDZSfCR"
      }
    },
    {
      "cell_type": "code",
      "source": [
        "Cmat = np.random.randn(N*N).reshape(N,N)\n",
        "instance_data = {'C': Cmat}"
      ],
      "metadata": {
        "id": "XAX7B6DrL_u2"
      },
      "execution_count": null,
      "outputs": []
    },
    {
      "cell_type": "markdown",
      "source": [
        "以降は全く一緒です。\n",
        "ただ制約条件を入れた場合には、multipliersで係数を指定しておく必要があります。\n",
        "これは罰金法と呼ばれる前回も紹介した方法により、制約条件を満たしている場合を最適解とするように誘導する方法を利用しているためです。\n",
        "その係数が大きければ大きいほど制約条件に忠実になります。"
      ],
      "metadata": {
        "id": "fCh1oYhFSiPU"
      }
    },
    {
      "cell_type": "code",
      "source": [
        "compiled_model = jmt.core.compile_model(problem, instance_data, {})\n",
        "pubo_builder = jmt.core.pubo.transpile_to_pubo(compiled_model=compiled_model)\n",
        "qubo, const = pubo_builder.get_qubo_dict(multipliers={\"one group\": 2.0})"
      ],
      "metadata": {
        "id": "w-0md09tMLmY"
      },
      "execution_count": null,
      "outputs": []
    },
    {
      "cell_type": "markdown",
      "source": [
        "出来上がったquboを用いて最適化を実行します。"
      ],
      "metadata": {
        "id": "YZAu8Zf-Syli"
      }
    },
    {
      "cell_type": "code",
      "source": [
        "sampler = SASampler()\n",
        "sampleset = sampler.sample_qubo(qubo, num_reads=100)"
      ],
      "metadata": {
        "id": "UsxVOKxGMe4l"
      },
      "execution_count": null,
      "outputs": []
    },
    {
      "cell_type": "markdown",
      "source": [
        "ここで重要なのが制約条件を満たした答えを抽出することができることです。\n",
        "resultからfeasibleとしてみましょう。"
      ],
      "metadata": {
        "id": "TugGV1eZTEIb"
      }
    },
    {
      "cell_type": "code",
      "source": [
        "result = jmt.core.pubo.decode_from_openjij(sampleset, pubo_builder, compiled_model)\n",
        "# get feasible samples from sampleset\n",
        "feasible_samples = result.feasible()"
      ],
      "metadata": {
        "id": "ad6V22FdMbHz"
      },
      "execution_count": null,
      "outputs": []
    },
    {
      "cell_type": "markdown",
      "source": [
        "これで実行可能解（制約条件を満たした解）を取り出すことができました。"
      ],
      "metadata": {
        "id": "--sGEdZWTK_-"
      }
    },
    {
      "cell_type": "code",
      "source": [
        "feasible_samples.record.solution[\"x\"][0][0][1]"
      ],
      "metadata": {
        "id": "vUdv01nmNljL"
      },
      "execution_count": null,
      "outputs": []
    },
    {
      "cell_type": "markdown",
      "source": [
        "何番目のグループに所属するのかが一目瞭然の結果を得ることができます。"
      ],
      "metadata": {
        "id": "U28PPSV3TSYc"
      }
    },
    {
      "cell_type": "markdown",
      "source": [
        "ここで同じ番号になっているグループの中では相性が良い人同士を集めています。\n",
        "相性の数値はマイナスもあるのであるのでそういう人同士はなるたけ入らないように組み合わせています。"
      ],
      "metadata": {
        "id": "0NABYVqw5xIP"
      }
    },
    {
      "cell_type": "markdown",
      "source": [
        "## 非負値行列分解\n",
        "\n",
        "次にたくさんの顔画像データから人類の顔の特徴を学ぶことに挑戦してみましょう。\n",
        "行列分解という方法を利用します。\n",
        "\n",
        "まずは顔のデータセット\n",
        "https://web.archive.org/web/20180208155206/http://www.ai.mit.edu/courses/6.899/lectures/faces.tar.gz\n",
        "からDLして前回と同様の手続きでGoogle colabにuploadしましょう。"
      ],
      "metadata": {
        "id": "1EiJlIB-FC2c"
      }
    },
    {
      "cell_type": "code",
      "source": [
        "from google.colab import files\n",
        "uploaded = files.upload()"
      ],
      "metadata": {
        "id": "32meAC59FhlU"
      },
      "execution_count": null,
      "outputs": []
    },
    {
      "cell_type": "markdown",
      "source": [
        "その後解凍をします。"
      ],
      "metadata": {
        "id": "vRocOiijFlj_"
      }
    },
    {
      "cell_type": "code",
      "source": [
        "!tar -zxvf faces.tar.gz"
      ],
      "metadata": {
        "id": "uN6XyCAEFX2r"
      },
      "execution_count": null,
      "outputs": []
    },
    {
      "cell_type": "markdown",
      "source": [
        "さらにface.train.tar.gzがあるのでこちらも解凍をしましょう。そうするとたくさんの顔画像が入ったtrain/non-faceデータが得られます。"
      ],
      "metadata": {
        "id": "VfRTTy4MGad8"
      }
    },
    {
      "cell_type": "code",
      "source": [
        "!tar -zxvf face.train.tar.gz"
      ],
      "metadata": {
        "id": "0HIMnStWGV0H"
      },
      "execution_count": null,
      "outputs": []
    },
    {
      "cell_type": "markdown",
      "source": [
        "前回同様にフォルダにあるファイル名を全て取得します。"
      ],
      "metadata": {
        "id": "cBdwebMdUowj"
      }
    },
    {
      "cell_type": "code",
      "source": [
        "import glob\n",
        "files = glob.glob(r\"/content/train/face/*\")"
      ],
      "metadata": {
        "id": "s66wNDUGHPjU"
      },
      "execution_count": null,
      "outputs": []
    },
    {
      "cell_type": "markdown",
      "source": [
        "ひとつ取り出してみてみましょう。"
      ],
      "metadata": {
        "id": "1B3ojwXsLms_"
      }
    },
    {
      "cell_type": "markdown",
      "source": [
        "画像を読み込むのにopencvを利用します。"
      ],
      "metadata": {
        "id": "qKhyBXlrUrtO"
      }
    },
    {
      "cell_type": "code",
      "source": [
        "import cv2\n",
        "im = cv2.imread(files[101])\n",
        "mat = im[:,:,0]"
      ],
      "metadata": {
        "id": "ElvnyK9MKkb6"
      },
      "execution_count": null,
      "outputs": []
    },
    {
      "cell_type": "markdown",
      "source": [
        "画像の表示にはimshowで実行します。"
      ],
      "metadata": {
        "id": "2bqVDmOkLp2c"
      }
    },
    {
      "cell_type": "code",
      "source": [
        "import matplotlib.pyplot as plt\n",
        "plt.imshow(mat)\n",
        "plt.show()"
      ],
      "metadata": {
        "id": "D1IGpMaMLs0K"
      },
      "execution_count": null,
      "outputs": []
    },
    {
      "cell_type": "markdown",
      "source": [
        "何かしら切り取られた顔データが見られるかと思います。\n",
        "このような様々な人の顔が含まれるデータセットから\n",
        "共通するパーツを抜き出そうというのがここでやりたいことです。\n",
        "さらに足し算のみでこれを記述しましょう、という非負値行列分解という方法があります。\n",
        "そこからさらに0と1でどの顔のパーツを使うか使わないかを調べられるように改良したものを考えます。"
      ],
      "metadata": {
        "id": "SL8-lwhZUvRk"
      }
    },
    {
      "cell_type": "markdown",
      "source": [
        "まずは１枚１枚データを格納しておいたものをydataとします。"
      ],
      "metadata": {
        "id": "X59jYy9VVUA9"
      }
    },
    {
      "cell_type": "code",
      "source": [
        "ylist = []\n",
        "for file in files:\n",
        "  im = cv2.imread(file)\n",
        "  y = im[:,:,0].flatten()\n",
        "  ylist.append(y)\n",
        "\n",
        "ydata = np.array(ylist)"
      ],
      "metadata": {
        "id": "jM7wFiWaLpdP"
      },
      "execution_count": null,
      "outputs": []
    },
    {
      "cell_type": "markdown",
      "source": [
        "このydataをうまく説明する行列の２組を見つけます。\n",
        "1つは辞書的な行列で色々な絵の要素を持つものです。\n",
        "この要素を組み合わせて１枚の画像がうまく作り出せると考えます。\n",
        "１枚１枚のデータに対して、0と1を合わせて\n",
        "全部のデータに対して共通する画像のパーツを見出せば良いという問題です。\n",
        "\n",
        "まず全画像のデータ数をMとします。\n",
        "これを1つ1つ見せて、0と1で分解します。\n",
        "Nは画像のデータのサイズを示します。\n",
        "K=20個として20個の成分で分解することを考えます。\n",
        "まず20個の特徴ベクトルを用意しましょう。1つ1つはNの画像データを表現可能で、それを20個のうちいくつか組み合わせて実際の画像とすることを考えます。\n",
        "\n"
      ],
      "metadata": {
        "id": "ZWU4TYqOGnD4"
      }
    },
    {
      "cell_type": "code",
      "source": [
        "M = len(ylist)\n",
        "N = len(y)\n",
        "K = 10\n",
        "x = jm.BinaryVar('x', shape=(K,))\n",
        "k1 = jm.Element('k1', belong_to=(0, K))\n",
        "k2 = jm.Element('k2', belong_to=(0, K))\n",
        "a = jm.Placeholder('a',ndim = 1)\n",
        "Q = jm.Placeholder('Q',ndim = 2)\n",
        "lam = jm.Placeholder('lam',ndim = 0)"
      ],
      "metadata": {
        "id": "mP0aWpQouL8i"
      },
      "execution_count": null,
      "outputs": []
    },
    {
      "cell_type": "markdown",
      "source": [
        "aとQというパラメータを持つ以下のようなコスト関数を用意します。\n",
        "ここでaは類似度、Qは特徴ベクトル同士の重なりを減らすようにする効果があります。\n",
        "つまり利用する特徴ベクトルの間で直交化するようにしています。"
      ],
      "metadata": {
        "id": "VzGlIK9fZM_D"
      }
    },
    {
      "cell_type": "code",
      "source": [
        "problem = jm.Problem('NMF_face', sense=jm.ProblemSense.MINIMIZE)\n",
        "sum1 = -2*jm.sum(k1,a[k1]*x[k1])\n",
        "sum2 = jm.sum([k1,k2],Q[k1,k2]*x[k1]*x[k2])\n",
        "sum3 = lam*jm.sum(k1,x[k1])\n",
        "problem += sum1 + sum2 + sum3"
      ],
      "metadata": {
        "id": "4i16XDxx3RZG"
      },
      "execution_count": null,
      "outputs": []
    },
    {
      "cell_type": "markdown",
      "source": [
        "試しにでたらめな特徴ベクトルをまずは用意して、顔画像１枚を使って\n",
        "各係数を計算してみます。"
      ],
      "metadata": {
        "id": "N9zc409QarfN"
      }
    },
    {
      "cell_type": "code",
      "source": [
        "W = np.random.rand(N*K).reshape(N,K)\n",
        "d = 0\n",
        "yvec = ylist[d]\n",
        "Qmat = np.dot(W.T,W)\n",
        "avec = np.dot(yvec,W)\n",
        "lam = 1.0\n",
        "instance_data = {'Q': Qmat , \"a\": avec, \"lam\": lam}"
      ],
      "metadata": {
        "id": "OY1XoJFT-x3o"
      },
      "execution_count": null,
      "outputs": []
    },
    {
      "cell_type": "markdown",
      "source": [
        "Qmatでは特徴ベクトル間の積をとって直交度合いを探ります。\n",
        "またavecでは画像と特徴ベクトルの積を調べて、どの特徴ベクトルを使ったらうまく画像を再現できそうなのかを調べています。"
      ],
      "metadata": {
        "id": "Ht3wV_hYa7S-"
      }
    },
    {
      "cell_type": "code",
      "source": [
        "compiled_model = jmt.core.compile_model(problem, instance_data, {})\n",
        "pubo_builder = jmt.core.pubo.transpile_to_pubo(compiled_model=compiled_model)\n",
        "qubo, const = pubo_builder.get_qubo_dict(multipliers={})"
      ],
      "metadata": {
        "id": "ijTer4P0_kyr"
      },
      "execution_count": null,
      "outputs": []
    },
    {
      "cell_type": "markdown",
      "source": [
        "この最適化問題を解いて0と1、つまりどの特徴ベクトルを利用するのかを選択してもらいましょう。"
      ],
      "metadata": {
        "id": "z1ZrrZCCbOEA"
      }
    },
    {
      "cell_type": "code",
      "source": [
        "num_reads = 10\n",
        "sampler = SASampler()\n",
        "sampleset = sampler.sample_qubo(qubo, num_reads=num_reads)"
      ],
      "metadata": {
        "id": "utb4GSZU_c1I"
      },
      "execution_count": null,
      "outputs": []
    },
    {
      "cell_type": "markdown",
      "source": [
        "この結果を利用してボルツマンマシンの際と同じように、\n",
        "サンプリングした結果の傾向を見ておきます。\n",
        "前回と同様に以下のような計算をしておきます。"
      ],
      "metadata": {
        "id": "xYpmfd8ibWJW"
      }
    },
    {
      "cell_type": "code",
      "source": [
        "def calc_grad(sampleset,num_reads=num_reads):\n",
        "  qubo_model = np.zeros(K**2).reshape(K,K)\n",
        "  for k in range(num_reads):\n",
        "    qubo_model = qubo_model + np.outer(sampleset.record[k][0],sampleset.record[k][0])/num_reads\n",
        "  return qubo_model"
      ],
      "metadata": {
        "id": "XN_hJlD0Avw2"
      },
      "execution_count": null,
      "outputs": []
    },
    {
      "cell_type": "markdown",
      "source": [
        "この傾向から、\n",
        "まずyvecのどれを参考にするのかをnp.diag(qubo_model)と積をとって調べます。\n",
        "その際に複数の画像の結果について"
      ],
      "metadata": {
        "id": "ByGScp8fFm-B"
      }
    },
    {
      "cell_type": "code",
      "source": [
        "eta = 0.1\n",
        "Tall = 20\n",
        "\n",
        "for t in range(Tall):\n",
        "  for d in range(M//100):\n",
        "    yvec = ylist[d]\n",
        "    Qmat = np.dot(W.T,W)\n",
        "    avec = np.dot(yvec,W)\n",
        "    lam = 1.0\n",
        "    instance_data = {'Q': Qmat , \"a\": avec, \"lam\": lam}\n",
        "    compiled_model = jmt.core.compile_model(problem, instance_data, {})\n",
        "    pubo_builder = jmt.core.pubo.transpile_to_pubo(compiled_model=compiled_model)\n",
        "    qubo, const = pubo_builder.get_qubo_dict(multipliers={})\n",
        "    sampleset = sampler.sample_qubo(qubo, num_reads=num_reads)\n",
        "    result = jmt.core.pubo.decode_from_openjij(sampleset, pubo_builder, compiled_model)\n",
        "    face_list = result.record.solution[\"x\"][0][0][0]\n",
        "    qubo_model = calc_grad(sampleset)\n",
        "    plt.figure(figsize=(18, 4))\n",
        "    plt.subplot(1,len(face_list)+2,1)\n",
        "    plt.imshow(yvec.reshape(19,19))\n",
        "    face_sol = np.zeros(N).reshape(19,19)\n",
        "    for k in range(len(face_list)):\n",
        "      plt.subplot(1,len(face_list)+2,k+2)\n",
        "      plt.imshow(W[:,face_list[k]].reshape(19,19))\n",
        "      face_sol = face_sol + W[:,face_list[k]].reshape(19,19)\n",
        "    plt.subplot(1,len(face_list)+2,len(face_list)+2)\n",
        "    plt.imshow(face_sol.reshape(19,19))\n",
        "    plt.show()\n",
        "    W = W + eta*(np.outer(yvec.reshape(N,1),np.diag(qubo_model).reshape(1,K)) - np.dot(W,qubo_model))\n",
        "    W = W.clip(min=0)"
      ],
      "metadata": {
        "id": "7Sjm640AFwUG"
      },
      "execution_count": null,
      "outputs": []
    },
    {
      "cell_type": "markdown",
      "source": [
        "できあがったようですね。特徴ベクトルの1本を取り出して見ましょう。\n",
        "そうすると人類の顔の傾向から代表的な20本のベクトルが得られます。"
      ],
      "metadata": {
        "id": "OTHOUH8Scwoy"
      }
    },
    {
      "cell_type": "markdown",
      "source": [
        "人類の顔はこれをいくつか選び出して組み合わせてできあがっているということになります。\n",
        "顔画像は一見面白く良い結果が出てきそうですが、実は危険です。\n",
        "実際は顔の画像は向きや角度、照明などそのまま利用するには基準がずれたものが多いので難しいのが実際です。\n",
        "フォーマットができるだけ揃ったデータを利用すると良いでしょう。\n",
        "そういう意味では音楽などはフォーマットが揃った良いデータだと思います。\n",
        "つまり良くあるフレーズを抜き出すということができるというわけです。"
      ],
      "metadata": {
        "id": "DPdM3X3Ic7TD"
      }
    },
    {
      "cell_type": "markdown",
      "source": [
        "## 音楽の要素抽出\n",
        "\n",
        "前回のNESのデータを使って、音楽の典型的な要素を抽出するということもできそうですね。\n",
        "前回のおまじないをここでまずは実行していきましょう。"
      ],
      "metadata": {
        "id": "aiOR2gu-LBTT"
      }
    },
    {
      "cell_type": "code",
      "source": [
        "!pip install music21"
      ],
      "metadata": {
        "id": "e-m-5P2QLLk8"
      },
      "execution_count": null,
      "outputs": []
    },
    {
      "cell_type": "code",
      "source": [
        "!apt-get install musescore"
      ],
      "metadata": {
        "id": "Dv712Tk3N2pi"
      },
      "execution_count": null,
      "outputs": []
    },
    {
      "cell_type": "code",
      "source": [
        "!apt-get install xvfb"
      ],
      "metadata": {
        "id": "rSTPlXLwN2Wf"
      },
      "execution_count": null,
      "outputs": []
    },
    {
      "cell_type": "code",
      "source": [
        "!sh -e /etc/init.d/x11-common start"
      ],
      "metadata": {
        "id": "Tvq_0_gvN4Vs"
      },
      "execution_count": null,
      "outputs": []
    },
    {
      "cell_type": "code",
      "source": [
        "import os\n",
        "os.putenv('DISPLAY', ':99.0')"
      ],
      "metadata": {
        "id": "b-IMHRYRN5ZH"
      },
      "execution_count": null,
      "outputs": []
    },
    {
      "cell_type": "code",
      "source": [
        "!start-stop-daemon --start --pidfile /var/run/xvfb.pid --make-pidfile --background --exec /usr/bin/Xvfb -- :99 -screen 0 1024x768x24 -ac +extension GLX +render -noreset"
      ],
      "metadata": {
        "id": "g_oId2ozN6gf"
      },
      "execution_count": null,
      "outputs": []
    },
    {
      "cell_type": "code",
      "source": [
        "from music21 import *\n",
        "us = environment.UserSettings()\n",
        "us['musescoreDirectPNGPath'] = '/usr/bin/mscore'\n",
        "us['musicxmlPath'] = '/usr/bin/mscore'\n",
        "us['directoryScratch'] = '/tmp'"
      ],
      "metadata": {
        "id": "9p5jNXJKN9aY"
      },
      "execution_count": null,
      "outputs": []
    },
    {
      "cell_type": "markdown",
      "source": [
        "それではここで前回のNESの音楽ファイルをまたアップロードしましょう。\n",
        "https://github.com/chrisdonahue/nesmdb ダウンロードしたのち、個々のGoogle colab経由でアップロードして利用しましょう。 利用するのはSeparated Score Formatです。"
      ],
      "metadata": {
        "id": "S37tte19OEry"
      }
    },
    {
      "cell_type": "code",
      "source": [
        "from google.colab import files\n",
        "uploaded = files.upload()"
      ],
      "metadata": {
        "id": "KUsmgiELOEXW"
      },
      "execution_count": null,
      "outputs": []
    },
    {
      "cell_type": "code",
      "source": [
        "!tar -zxvf nesmdb24_seprsco.tar.gz"
      ],
      "metadata": {
        "id": "mlPsfaCXONmb"
      },
      "execution_count": null,
      "outputs": []
    },
    {
      "cell_type": "code",
      "source": [
        "files = glob.glob(r\"/content/nesmdb24_seprsco/train/*\")\n",
        "\n",
        "length = 8\n",
        "\n",
        "import pickle\n",
        "data_dict = {}\n",
        "for file in files:\n",
        "  with open(file, 'rb') as f:\n",
        "    rate, nsamps, seprsco = pickle.load(f)\n",
        "    if seprsco.shape[0] > length:\n",
        "      data_dict[file] = [rate, nsamps, seprsco]\n",
        "      print(file, nsamps, seprsco.shape)"
      ],
      "metadata": {
        "id": "yB-b_fZZOQU5"
      },
      "execution_count": null,
      "outputs": []
    },
    {
      "cell_type": "code",
      "source": [
        "def create_roll(piano_roll):\n",
        "  ans = np.zeros(piano_roll.shape[0])\n",
        "  itemp0 = np.where(piano_roll==0)\n",
        "  itemp1 = np.where(piano_roll!=0)\n",
        "  ans[itemp0] = 0 #0で休符\n",
        "  ans[itemp1] = np.mod(piano_roll[itemp1]-1,12) + 1 #1-12で音階\n",
        "  return ans"
      ],
      "metadata": {
        "id": "uSF_c3JcObN8"
      },
      "execution_count": null,
      "outputs": []
    },
    {
      "cell_type": "markdown",
      "source": [
        "ここまでは共通したもので、\n",
        "ここから少し変更していきます。\n",
        "まずnum_dataで指定した数分の音楽のデータを手に入れます。"
      ],
      "metadata": {
        "id": "SNG_M8mdO1Sg"
      }
    },
    {
      "cell_type": "code",
      "source": [
        "key_list = list(data_dict.keys())\n",
        "num_data = 100\n",
        "random_nums = np.random.randint(0,len(key_list),num_data)\n",
        "\n",
        "ylist = []\n",
        "for k in range(num_data):\n",
        "  piano_rolls = data_dict[key_list[random_nums[k]]][2]\n",
        "  music_length = len(piano_rolls[:,0])\n",
        "  mstart = np.random.randint(0,music_length-length)\n",
        "  yvec = np.zeros([length,4])\n",
        "  for m in range(4):\n",
        "    piano_roll = piano_rolls[mstart:mstart+length,m]\n",
        "    yvec[:,m] = create_roll(piano_roll)\n",
        "  ylist.append(yvec.flatten())"
      ],
      "metadata": {
        "id": "_X-Qcn9oObwl"
      },
      "execution_count": null,
      "outputs": []
    },
    {
      "cell_type": "markdown",
      "source": [
        "これでylistには音階と休符の0-12までの整数値が4パート分並んだデータを入れてあります。\n",
        "これを同じように行列分解すれば共通する基本旋律が得られると考えられます。\n",
        "（それ自体に意味があるというより足し算をして組み合わせると意味のある音楽になりやすい）"
      ],
      "metadata": {
        "id": "m-niX3GOOmTE"
      }
    },
    {
      "cell_type": "markdown",
      "source": [
        "途中でどんな楽譜が登場するかも気になるので、結果得られた旋律を楽譜表示をするコードを書きましょう。\n"
      ],
      "metadata": {
        "id": "cZB29C1OWGEA"
      }
    },
    {
      "cell_type": "code",
      "source": [
        "note_dict = {}\n",
        "note_dict[0] = 'r'\n",
        "note_dict[1] = 'c'\n",
        "note_dict[2] = 'c#'\n",
        "note_dict[3] = 'd'\n",
        "note_dict[4] = 'd#'\n",
        "note_dict[5] = 'e'\n",
        "note_dict[6] = 'f'\n",
        "note_dict[7] = 'f#'\n",
        "note_dict[8] = 'g'\n",
        "note_dict[9] = 'g#'\n",
        "note_dict[10] = 'a'\n",
        "note_dict[11] = 'a#'\n",
        "note_dict[12] = 'b'"
      ],
      "metadata": {
        "id": "AT6X0PYtWLXM"
      },
      "execution_count": null,
      "outputs": []
    },
    {
      "cell_type": "markdown",
      "source": [
        "前回利用した数値を音符に変える対応表を使います。"
      ],
      "metadata": {
        "id": "Hr2b5T2aaAoF"
      }
    },
    {
      "cell_type": "code",
      "source": [
        "def score_create(yvec):\n",
        "  gen_score = 'tinyNotation: 4/4'\n",
        "  ymat = yvec.reshape(length,4)\n",
        "  for t in range(length):\n",
        "    gen_score += ' ' + note_dict[int(ymat[t,0].clip(max=12))]\n",
        "  cp = converter.parse(gen_score)\n",
        "  return cp"
      ],
      "metadata": {
        "id": "W_V5HnDbWOiz"
      },
      "execution_count": null,
      "outputs": []
    },
    {
      "cell_type": "markdown",
      "source": [
        "整数値でないと楽譜に変換できないのでintを利用しています。主旋律だけまずはやってみましょう。\n"
      ],
      "metadata": {
        "id": "GXK28ov2Z7l9"
      }
    },
    {
      "cell_type": "code",
      "source": [
        "M = len(ylist)\n",
        "N = length*4\n",
        "K = 10\n",
        "x = jm.BinaryVar('x', shape=(K,))\n",
        "k1 = jm.Element('k1', belong_to=(0, K))\n",
        "k2 = jm.Element('k2', belong_to=(0, K))\n",
        "a = jm.Placeholder('a',ndim = 1)\n",
        "Q = jm.Placeholder('Q',ndim = 2)\n",
        "lam = jm.Placeholder('lam',ndim = 0)"
      ],
      "metadata": {
        "id": "VL38hmlZVfpM"
      },
      "execution_count": null,
      "outputs": []
    },
    {
      "cell_type": "markdown",
      "source": [
        "Nはlength*4にします。4パート分一気に学習することができます。\n",
        "（表示は主旋律だけにします）"
      ],
      "metadata": {
        "id": "6iajtVqvaKL2"
      }
    },
    {
      "cell_type": "code",
      "source": [
        "problem = jm.Problem('NMF_music', sense=jm.ProblemSense.MINIMIZE)\n",
        "sum1 = -2*jm.sum(k1,a[k1]*x[k1])\n",
        "sum2 = jm.sum([k1,k2],Q[k1,k2]*x[k1]*x[k2])\n",
        "sum3 = lam*jm.sum(k1,x[k1])\n",
        "problem += sum1 + sum2 + sum3"
      ],
      "metadata": {
        "id": "QMVtvEHAVfmI"
      },
      "execution_count": null,
      "outputs": []
    },
    {
      "cell_type": "code",
      "source": [
        "W = 12*np.random.rand(N*K).reshape(N,K)\n",
        "eta = 0.1\n",
        "Tall = 20\n",
        "\n",
        "for t in range(Tall):\n",
        "  for d in range(M):\n",
        "    yvec = ylist[d]\n",
        "    Qmat = np.dot(W.T,W)\n",
        "    avec = np.dot(yvec,W)\n",
        "    lam = 1.0\n",
        "    instance_data = {'Q': Qmat , \"a\": avec, \"lam\": lam}\n",
        "    compiled_model = jmt.core.compile_model(problem, instance_data, {})\n",
        "    pubo_builder = jmt.core.pubo.transpile_to_pubo(compiled_model=compiled_model)\n",
        "    qubo, const = pubo_builder.get_qubo_dict(multipliers={})\n",
        "    sampleset = sampler.sample_qubo(qubo, num_reads=num_reads)\n",
        "    result = jmt.core.pubo.decode_from_openjij(sampleset, pubo_builder, compiled_model)\n",
        "    score_list = result.record.solution[\"x\"][0][0][0]\n",
        "    qubo_model = calc_grad(sampleset)\n",
        "    print(\"元の音源\")\n",
        "    cpy = score_create(yvec)\n",
        "    cpy.show()\n",
        "    score_sol = np.zeros(N)\n",
        "    print(\"音源要素候補\")\n",
        "    for k in range(len(score_list)):\n",
        "      cptemp = score_create(W[:,score_list[k]])\n",
        "      cptemp.show()\n",
        "      score_sol = score_sol + W[:,score_list[k]]\n",
        "    print(\"再現\")\n",
        "    cp = score_create(score_sol)\n",
        "    cp.show()\n",
        "    W = W + eta*(np.outer(yvec.reshape(N,1),np.diag(qubo_model).reshape(1,K)) - np.dot(W,qubo_model))\n",
        "    W = W.clip(min=0,max=12)"
      ],
      "metadata": {
        "id": "Vz1HzWb1VfcX"
      },
      "execution_count": null,
      "outputs": []
    },
    {
      "cell_type": "markdown",
      "source": [
        "## 映画の推薦\n",
        "\n",
        "MovieLensのデータセットを利用します。\n",
        "https://grouplens.org/datasets/movielens/\n",
        "このデータセットでは（教育用：87,585個の映画について200,948のユーザーによる）映画の５段階評価のデータが用意されています。\n",
        "これに基づきユーザーのパターンを習得し、未知のユーザーに対しても部分的情報からそのパターンを見つけ出して、推薦をすることなどができます。\n",
        "但しここでは顔のデータとは異なり、欠損（未評価）データがあることにご注意を。\n"
      ],
      "metadata": {
        "id": "w-I-r0hjvngy"
      }
    },
    {
      "cell_type": "code",
      "source": [
        "from google.colab import files\n",
        "uploaded = files.upload()"
      ],
      "metadata": {
        "id": "wbIU5187vbA_"
      },
      "execution_count": null,
      "outputs": []
    },
    {
      "cell_type": "code",
      "source": [
        "!unzip ml-latest-small.zip"
      ],
      "metadata": {
        "id": "Cv9vW6Anxhmb"
      },
      "execution_count": null,
      "outputs": []
    },
    {
      "cell_type": "markdown",
      "source": [
        "csvファイルで用意されたデータをpandasで読み込む。"
      ],
      "metadata": {
        "id": "TtPYBR9A5jlZ"
      }
    },
    {
      "cell_type": "code",
      "source": [
        "import pandas as pd\n",
        "df = pd.read_csv('ml-latest-small/ratings.csv')"
      ],
      "metadata": {
        "id": "5_OJuRSj5aHo"
      },
      "execution_count": null,
      "outputs": []
    },
    {
      "cell_type": "code",
      "source": [
        "df"
      ],
      "metadata": {
        "id": "QnfIL6NU_lff"
      },
      "execution_count": null,
      "outputs": []
    },
    {
      "cell_type": "markdown",
      "source": [
        "ここで先ほど$y$としていたデータに映画ごとのレーティングを入れることにしましょう。"
      ],
      "metadata": {
        "id": "94lLUvO7-2jp"
      }
    },
    {
      "cell_type": "code",
      "source": [
        "N = df[\"movieId\"].to_numpy().max()\n",
        "M = df[\"userId\"].to_numpy().max()\n",
        "Ymat = np.zeros(N*M).reshape(N,M)\n",
        "\n",
        "for k in range(len(df)):\n",
        "  i = df[\"movieId\"][k] - 1\n",
        "  j = df[\"userId\"][k] - 1\n",
        "  Ymat[i,j] = df.iloc[k][\"rating\"]"
      ],
      "metadata": {
        "id": "Qo7vGDwk-ciD"
      },
      "execution_count": null,
      "outputs": []
    },
    {
      "cell_type": "markdown",
      "source": [
        "これは映画の種類がめちゃくちゃ多いので、非常に縦長のデータになる。\n",
        "しかしユーザーごとに量子アニーリングマシンに投入してその結果に基づき\n",
        "Wという特徴を示す行列を更新していくことができる。"
      ],
      "metadata": {
        "id": "hSOo09OJBsPe"
      }
    },
    {
      "cell_type": "code",
      "source": [
        "K = 20\n",
        "x = jm.BinaryVar('x', shape=(K,))\n",
        "k1 = jm.Element('k1', belong_to=(0, K))\n",
        "k2 = jm.Element('k2', belong_to=(0, K))\n",
        "a = jm.Placeholder('a',ndim = 1)\n",
        "Q = jm.Placeholder('Q',ndim = 2)\n",
        "lam = jm.Placeholder('lam',ndim = 0)"
      ],
      "metadata": {
        "id": "GXtB6HzjxfTr"
      },
      "execution_count": null,
      "outputs": []
    },
    {
      "cell_type": "markdown",
      "source": [
        "量子アニーリングマシンに投げるところなどは全て同じ形なのでそのまま採用できる。\n",
        "そういう場合はjijmodelingでは係数だけ変更すれば良いので便利である。"
      ],
      "metadata": {
        "id": "8xjTVkDXEYQR"
      }
    },
    {
      "cell_type": "code",
      "source": [
        "problem = jm.Problem('NMF_movie', sense=jm.ProblemSense.MINIMIZE)\n",
        "sum1 = -2*jm.sum(k1,a[k1]*x[k1])\n",
        "sum2 = jm.sum([k1,k2],Q[k1,k2]*x[k1]*x[k2])\n",
        "sum3 = lam*jm.sum(k1,x[k1])\n",
        "problem += sum1 + sum2 + sum3"
      ],
      "metadata": {
        "id": "IgTTVdi0xmCg"
      },
      "execution_count": null,
      "outputs": []
    },
    {
      "cell_type": "markdown",
      "source": [
        "但しこの映画のデータの場合には未観測の部分があるので、それを0ではなく足し算に入れないという処理をする必要がある。"
      ],
      "metadata": {
        "id": "X8JoF6KMEjI8"
      }
    },
    {
      "cell_type": "code",
      "source": [
        "W = 5*np.random.rand(N*K).reshape(N,K)\n",
        "d = 0\n",
        "yvec = Ymat[:,d]\n",
        "mask = np.where(yvec!=0)[0]\n",
        "Wmask = W[mask,:]\n",
        "ymask = yvec[mask]\n",
        "Qmat = np.dot(Wmask.T,Wmask)\n",
        "avec = np.dot(ymask,Wmask)\n",
        "instance_data = {'Q': Qmat , \"a\": avec, \"lam\": 1.0}"
      ],
      "metadata": {
        "id": "-ZfeDJo9xp1N"
      },
      "execution_count": null,
      "outputs": []
    },
    {
      "cell_type": "markdown",
      "source": [
        "以降は全く同じ。"
      ],
      "metadata": {
        "id": "20ulj30rjsXH"
      }
    },
    {
      "cell_type": "code",
      "source": [
        "compiled_model = jmt.core.compile_model(problem, instance_data, {})\n",
        "pubo_builder = jmt.core.pubo.transpile_to_pubo(compiled_model=compiled_model)\n",
        "qubo, const = pubo_builder.get_qubo_dict(multipliers={})"
      ],
      "metadata": {
        "id": "cjJWjqG1xt8T"
      },
      "execution_count": null,
      "outputs": []
    },
    {
      "cell_type": "code",
      "source": [
        "num_reads = 10\n",
        "sampler = SASampler()\n",
        "sampleset = sampler.sample_qubo(qubo, num_reads=num_reads)"
      ],
      "metadata": {
        "id": "B1Whf6K-xwKC"
      },
      "execution_count": null,
      "outputs": []
    },
    {
      "cell_type": "markdown",
      "source": [],
      "metadata": {
        "id": "aXgmyqKkjuuA"
      }
    },
    {
      "cell_type": "code",
      "source": [
        "eta = 0.1\n",
        "Tall = 20\n",
        "\n",
        "for t in range(Tall):\n",
        "  for d in range(M):\n",
        "    yvec = Ymat[:,d]\n",
        "    mask = np.where(yvec!=0)[0]\n",
        "    Wmask = W[mask,:]\n",
        "    ymask = yvec[mask]\n",
        "    Qmat = np.dot(Wmask.T,Wmask)\n",
        "    avec = np.dot(ymask,Wmask)\n",
        "    lam = 1.0\n",
        "    instance_data = {'Q': Qmat , \"a\": avec, \"lam\": lam}\n",
        "    compiled_model = jmt.core.compile_model(problem, instance_data, {})\n",
        "    pubo_builder = jmt.core.pubo.transpile_to_pubo(compiled_model=compiled_model)\n",
        "    qubo, const = pubo_builder.get_qubo_dict(multipliers={})\n",
        "    sampleset = sampler.sample_qubo(qubo, num_reads=num_reads)\n",
        "    result = jmt.core.pubo.decode_from_openjij(sampleset, pubo_builder, compiled_model)\n",
        "    qubo_model = calc_grad(sampleset)\n",
        "    plot_list = result.record.solution[\"x\"][0][0][0]\n",
        "    plt.plot(yvec[mask])\n",
        "    sol_temp = np.zeros(len(mask))\n",
        "    for k in range(len(plot_list)):\n",
        "      plt.plot(Wmask[:,plot_list[k]],alpha=0.2)\n",
        "      sol_temp = sol_temp + Wmask[:,plot_list[k]]\n",
        "    plt.plot(sol_temp.astype(int))\n",
        "    plt.ylim(0,5.1)\n",
        "    plt.show()\n",
        "    W[mask,:] = W[mask,:] + eta*(np.outer(ymask.reshape(len(ymask),1),np.diag(qubo_model).reshape(1,K)) - np.dot(W[mask,:],qubo_model))\n",
        "    W = W.clip(min=0,max=5)"
      ],
      "metadata": {
        "id": "5foE_WU7x1-v"
      },
      "execution_count": null,
      "outputs": []
    },
    {
      "cell_type": "code",
      "source": [],
      "metadata": {
        "id": "i-lDd1G6jW0e"
      },
      "execution_count": null,
      "outputs": []
    }
  ]
}