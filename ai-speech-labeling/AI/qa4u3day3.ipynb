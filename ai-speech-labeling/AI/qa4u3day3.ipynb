{
  "nbformat": 4,
  "nbformat_minor": 0,
  "metadata": {
    "colab": {
      "private_outputs": true,
      "provenance": [],
      "include_colab_link": true
    },
    "kernelspec": {
      "name": "python3",
      "display_name": "Python 3"
    },
    "language_info": {
      "name": "python"
    }
  },
  "cells": [
    {
      "cell_type": "markdown",
      "metadata": {
        "id": "view-in-github",
        "colab_type": "text"
      },
      "source": [
        "<a href=\"https://colab.research.google.com/github/mzk8888/AI/blob/main/qa4u3day3.ipynb\" target=\"_parent\"><img src=\"https://colab.research.google.com/assets/colab-badge.svg\" alt=\"Open In Colab\"/></a>"
      ]
    },
    {
      "cell_type": "markdown",
      "source": [
        "まずは量子アニーリングマシンを使うための準備とシミュレータとしてOpenJijを利用する準備としてpip installをしておきましょう"
      ],
      "metadata": {
        "id": "C6FTeDLCrDZm"
      }
    },
    {
      "cell_type": "code",
      "source": [
        "pip install dwave-ocean-sdk"
      ],
      "metadata": {
        "id": "6NEC7XeHrAnc"
      },
      "execution_count": null,
      "outputs": []
    },
    {
      "cell_type": "code",
      "source": [
        "pip install openjij"
      ],
      "metadata": {
        "id": "iW1Y4okKyxcE"
      },
      "execution_count": null,
      "outputs": []
    },
    {
      "cell_type": "markdown",
      "source": [
        "今回の講義内容は以下のURLにある情報を参考にしました。\n",
        "https://www.tensorflow.org/tutorials/audio/music_generation?hl=ja"
      ],
      "metadata": {
        "id": "Sj-uyNxu0OvW"
      }
    },
    {
      "cell_type": "markdown",
      "source": [
        "## 楽曲を扱うためのライブラリ\n",
        "さらに今回は音楽生成が楽しくなるように楽譜の表示をするためのライブラリとしてmusic21を用意します。"
      ],
      "metadata": {
        "id": "YnZmI6gpzER4"
      }
    },
    {
      "cell_type": "code",
      "source": [
        "!pip install --upgrade music21"
      ],
      "metadata": {
        "id": "fbpm72yHJboU"
      },
      "execution_count": null,
      "outputs": []
    },
    {
      "cell_type": "markdown",
      "source": [
        "ただこれではうまくいかないのでちょっとおまじない。\n",
        "music21の背景で必要となるmusescoreをシステムにインストールします。"
      ],
      "metadata": {
        "id": "QahwmQ4wqlAB"
      }
    },
    {
      "cell_type": "code",
      "source": [
        "!apt-get install musescore"
      ],
      "metadata": {
        "id": "7zzqW4OeTryN"
      },
      "execution_count": null,
      "outputs": []
    },
    {
      "cell_type": "markdown",
      "source": [
        "さらに必要なものとしてxvfbもインストールしましょう。"
      ],
      "metadata": {
        "id": "BtzWKCCFqfo3"
      }
    },
    {
      "cell_type": "code",
      "source": [
        "!apt-get install xvfb"
      ],
      "metadata": {
        "id": "hp1IYhbbqMh0"
      },
      "execution_count": null,
      "outputs": []
    },
    {
      "cell_type": "markdown",
      "source": [
        "これらの必要なものをインストールしたら、おまじない。\n",
        "新しい環境で起動しましょうと言う意味です。"
      ],
      "metadata": {
        "id": "e_5Ls9F8qdCV"
      }
    },
    {
      "cell_type": "code",
      "source": [
        "!sh -e /etc/init.d/x11-common start"
      ],
      "metadata": {
        "id": "0zcDa9CTqRzQ"
      },
      "execution_count": null,
      "outputs": []
    },
    {
      "cell_type": "code",
      "source": [
        "import os"
      ],
      "metadata": {
        "id": "ffjIUIYMqTn9"
      },
      "execution_count": null,
      "outputs": []
    },
    {
      "cell_type": "code",
      "source": [
        "os.putenv('DISPLAY', ':99.0')"
      ],
      "metadata": {
        "id": "6FpPaZzfqUEs"
      },
      "execution_count": null,
      "outputs": []
    },
    {
      "cell_type": "code",
      "source": [
        "!start-stop-daemon --start --pidfile /var/run/xvfb.pid --make-pidfile --background --exec /usr/bin/Xvfb -- :99 -screen 0 1024x768x24 -ac +extension GLX +render -noreset"
      ],
      "metadata": {
        "id": "VIDk4GXXqVpP"
      },
      "execution_count": null,
      "outputs": []
    },
    {
      "cell_type": "markdown",
      "source": [
        "ここからが本番です。\n",
        "まずはmusic21を使えるように準備しましょう。\n",
        "from music21 import *で特に宣言なくmusic21にある関数を利用することができるようになります。"
      ],
      "metadata": {
        "id": "-RXSGDPvqsqr"
      }
    },
    {
      "cell_type": "code",
      "source": [
        "from music21 import *"
      ],
      "metadata": {
        "id": "_zk-_dl2qYW5"
      },
      "execution_count": null,
      "outputs": []
    },
    {
      "cell_type": "markdown",
      "source": [
        "さらに作業環境のためのおまじない"
      ],
      "metadata": {
        "id": "LJ60xCVZqyHw"
      }
    },
    {
      "cell_type": "code",
      "source": [
        "us = environment.UserSettings()"
      ],
      "metadata": {
        "id": "gBtZ-A2rqvxe"
      },
      "execution_count": null,
      "outputs": []
    },
    {
      "cell_type": "code",
      "source": [
        "us['musescoreDirectPNGPath'] = '/usr/bin/mscore'"
      ],
      "metadata": {
        "id": "iFhgj_gbrgdn"
      },
      "execution_count": null,
      "outputs": []
    },
    {
      "cell_type": "code",
      "source": [
        "us['musicxmlPath'] = '/usr/bin/mscore'"
      ],
      "metadata": {
        "id": "iZv8iIZgrivU"
      },
      "execution_count": null,
      "outputs": []
    },
    {
      "cell_type": "code",
      "source": [
        "us['directoryScratch'] = '/tmp'"
      ],
      "metadata": {
        "id": "ecwCIhAbrkQJ"
      },
      "execution_count": null,
      "outputs": []
    },
    {
      "cell_type": "markdown",
      "source": [
        "それではまずお試しに楽譜を表示してみましょう。\n",
        "以下のconverter.parseのなかにある4/4は4/4拍子で、c4やd4などは音階（4や8は4分音符、8分音符の意味）です。rは休符。\n",
        "さてこれは何の曲でしょうか？\n",
        "\n",
        "1.   リスト項目\n",
        "2.   リスト項目\n",
        "\n"
      ],
      "metadata": {
        "id": "MC3jmj5Irm3b"
      }
    },
    {
      "cell_type": "code",
      "source": [
        "cp = converter.parse('tinyNotation: 4/4 c4 d4 e4 f4 e4 d4 c4 r e4 f4 g4 a4 g4 f4 e4 r c4 r c4 r c4 r c4 r c8 c8 d8 d8 e8 e8 f8 f8 e4 d4 c4 r')"
      ],
      "metadata": {
        "id": "bw4-XJ4xrliL"
      },
      "execution_count": null,
      "outputs": []
    },
    {
      "cell_type": "markdown",
      "source": [
        "それではこれを５線符に並べて楽譜を表示してみましょう"
      ],
      "metadata": {
        "id": "B5MqnIrXrsD_"
      }
    },
    {
      "cell_type": "code",
      "source": [
        "cp.show()"
      ],
      "metadata": {
        "id": "JXOS0Junrpt0"
      },
      "execution_count": null,
      "outputs": []
    },
    {
      "cell_type": "markdown",
      "source": [
        "楽譜でも良いですし音階の上下だけ記号的に表したピアノロール表示がコンピュータによる楽曲生成にはよく用いられます。"
      ],
      "metadata": {
        "id": "GYIkJ_YqsCmA"
      }
    },
    {
      "cell_type": "code",
      "source": [
        "cp.plot()"
      ],
      "metadata": {
        "id": "8AR1ZOU8rtuH"
      },
      "execution_count": null,
      "outputs": []
    },
    {
      "cell_type": "markdown",
      "source": [
        "音階が何回出てきたのか頻度を調べるヒストグラム表示も可能です。"
      ],
      "metadata": {
        "id": "nV8uROt8sA0h"
      }
    },
    {
      "cell_type": "code",
      "source": [
        "cp.plot('histogram', 'pitch')"
      ],
      "metadata": {
        "id": "fDdx3cNNryX_"
      },
      "execution_count": null,
      "outputs": []
    },
    {
      "cell_type": "markdown",
      "source": [
        "さらにはこれを音声として実際に再生をすることもできます。\n",
        "これが先ほどのおまじないの効果です。"
      ],
      "metadata": {
        "id": "98hQLgb-sJCo"
      }
    },
    {
      "cell_type": "code",
      "source": [
        "cp.show('midi')"
      ],
      "metadata": {
        "id": "T2upq_sxr_Fl"
      },
      "execution_count": null,
      "outputs": []
    },
    {
      "cell_type": "markdown",
      "source": [
        "## 楽曲のデータ分析\n",
        "さてそうした下準備を終えたら、次は世の中の楽曲についてのデータ分析をしてみましょう。\n",
        "今回は日本ではファミリーコンピュータ（通称：ファミコン）で知られる任天堂の家庭用ゲーム機で発表されたゲームの楽曲を利用します。\n",
        "同時発音数が3つまでと言う制限がありシンプルなデータであると言うのが選定理由です。世界的にはNES（Nintendo Entertainment System）で知られています。\n",
        "\n",
        "以下のgithubレポジトリにNESのMIDEデータがありますので、これを利用しましょう。\n",
        "https://github.com/chrisdonahue/nesmdb\n",
        "ダウンロードしたのち、個々のGoogle colab経由でアップロードして利用しましょう。\n",
        "利用するのはSeparated Score Formatです。"
      ],
      "metadata": {
        "id": "RCHIsPLHVMFR"
      }
    },
    {
      "cell_type": "code",
      "source": [
        "from google.colab import files\n",
        "uploaded = files.upload()"
      ],
      "metadata": {
        "id": "JJa9r6I5sG96"
      },
      "execution_count": null,
      "outputs": []
    },
    {
      "cell_type": "markdown",
      "source": [
        "（圧縮されたファイルをそのまま）アップロードをしたらそのまま解凍をします。"
      ],
      "metadata": {
        "id": "JK0PcGLo8W2x"
      }
    },
    {
      "cell_type": "code",
      "source": [
        "!tar -zxvf nesmdb24_seprsco.tar.gz"
      ],
      "metadata": {
        "id": "ZKOUhlCOyImu"
      },
      "execution_count": null,
      "outputs": []
    },
    {
      "cell_type": "markdown",
      "source": [
        "これでデータ分析をする準備ができました。\n",
        "いつも利用するnumpyはもちろん、ファイル名関係を扱うライブラリのglobを利用します。"
      ],
      "metadata": {
        "id": "fG1zYNsn8c2M"
      }
    },
    {
      "cell_type": "code",
      "source": [
        "import numpy as np\n",
        "import glob\n",
        "files = glob.glob(r\"/content/nesmdb24_seprsco/train/*\")"
      ],
      "metadata": {
        "id": "djkfwKZKysf_"
      },
      "execution_count": null,
      "outputs": []
    },
    {
      "cell_type": "markdown",
      "source": [
        "ファイル名のリストをfilesに準備しておきました。\n",
        "これをpickleというライブラリを用いて次々と開いてGoogle Colab上で利用できるようにしましょう。たまに空ファイルがあるので、seprsco.size > 0のものだけを読み込むという例外処理を行なっています。"
      ],
      "metadata": {
        "id": "4niOYIoL8lbi"
      }
    },
    {
      "cell_type": "code",
      "source": [
        "length = 8"
      ],
      "metadata": {
        "id": "D61zxeVWfGZp"
      },
      "execution_count": null,
      "outputs": []
    },
    {
      "cell_type": "markdown",
      "source": [
        "今回は楽曲の全てを学ぶとかではなく、フレーズ的に一部分を生成することができることを目指します。\n",
        "length=8として、4/4拍子で8個の音を生成することを目指します。\n",
        "以下で呼び出すseprsco.shape[0]で曲の長さを調べることができます。"
      ],
      "metadata": {
        "id": "DxXsLnvsfH3G"
      }
    },
    {
      "cell_type": "code",
      "source": [
        "import pickle\n",
        "data_dict = {}\n",
        "for file in files:\n",
        "  with open(file, 'rb') as f:\n",
        "    rate, nsamps, seprsco = pickle.load(f)\n",
        "    if seprsco.shape[0] > 0 and seprsco.shape[0] > length:\n",
        "      data_dict[file] = [rate, nsamps, seprsco]\n",
        "      print(file, nsamps, seprsco.shape)"
      ],
      "metadata": {
        "id": "b0zUolIKy4XJ"
      },
      "execution_count": null,
      "outputs": []
    },
    {
      "cell_type": "markdown",
      "source": [
        "ファイル名をキーにしたdata_dict（dict形式）に格納することにしました。\n"
      ],
      "metadata": {
        "id": "EhxOpnb-9g5i"
      }
    },
    {
      "cell_type": "code",
      "source": [
        "key_list = list(data_dict.keys())"
      ],
      "metadata": {
        "id": "x5Qh7teqzBKv"
      },
      "execution_count": null,
      "outputs": []
    },
    {
      "cell_type": "markdown",
      "source": [
        "ちょっと試しに一曲だけピアノロールを見てみましょう。"
      ],
      "metadata": {
        "id": "wFJv2Dhy9ufO"
      }
    },
    {
      "cell_type": "code",
      "source": [
        "piano_rolls = data_dict[key_list[0]][2]"
      ],
      "metadata": {
        "id": "-_fUKVzFYcJ0"
      },
      "execution_count": null,
      "outputs": []
    },
    {
      "cell_type": "code",
      "source": [
        "piano_rolls"
      ],
      "metadata": {
        "id": "BzpLO9go90hz"
      },
      "execution_count": null,
      "outputs": []
    },
    {
      "cell_type": "markdown",
      "source": [
        "数十の数値がたくさん並んでいるかと思います。\n",
        "まず列が楽器とも言いましょうか。ファミコンの音源1,2,3,4のそれぞれの音に対応します。\n",
        "パルス波2つと三角波、パーカッション部分です。\n",
        "\n",
        "two pulse-wave generators (P1, P2), a triangle-wave generator (TR), a percussive noise generator (NO)\n",
        "\n",
        "この数値は音階の値で12毎にオクターブがあがります。\n",
        "12は半音を含めたCDEFGAB（ドレミファソラシ）までの音です。\n",
        "つまりピアノの鍵盤の数です。\n",
        "オクターブは忘れてこの数値がどの鍵盤を押したら出るのかを調べるのはnp.modなどを使うと良いですね。"
      ],
      "metadata": {
        "id": "fDayd5yZ9_Vp"
      }
    },
    {
      "cell_type": "markdown",
      "source": [
        "まず曲の全体の長さを調べて、\n",
        "それを超えない範囲で適当にlength分の音情報を抜き取る練習をしてみます。\n",
        "np.random.randintを利用すれば良いですね。"
      ],
      "metadata": {
        "id": "XT0gOl68CweU"
      }
    },
    {
      "cell_type": "code",
      "source": [
        "music_length = len(piano_rolls[:,0])\n",
        "mstart = np.random.randint(0,music_length-length)\n",
        "piano_roll = np.mod(piano_rolls[mstart:mstart+length,0],12)\n",
        "print(piano_roll)"
      ],
      "metadata": {
        "id": "ZZfFC1daYkwE"
      },
      "execution_count": null,
      "outputs": []
    },
    {
      "cell_type": "markdown",
      "source": [
        "np.modを利用して12音のフレーズを抜き出しました。"
      ],
      "metadata": {
        "id": "QUfkkt8KC6Oi"
      }
    },
    {
      "cell_type": "markdown",
      "source": [
        "これでいくらでも整数値で0-11までのシーケンスを出すことができますね。\n",
        "音楽ですから特に前後の関係が大事であるわけで、\n",
        "何かの音が鳴ったら、その音の次にどんな音が来やすいのか、前の音がこうだったら次はどんな音になりやすいのか。その相互作用の関係が大事なはずです。\n",
        "そこを学ぶボルツマンマシンを実行しましょう。\n",
        "\n",
        "次にこれを縦に13個・横に8個並ぶ0と1の行列にしていきましょう。12音+休符で合計13個が縦に並びます。\n",
        "指定された数字の場所に1を立てれば良いですね。\n"
      ],
      "metadata": {
        "id": "6hvmu8fGwhfL"
      }
    },
    {
      "cell_type": "markdown",
      "source": [
        "休符かそれ以外かで役割が違うのでその処理を行う関数を用意します。"
      ],
      "metadata": {
        "id": "cHGUP5RVml9H"
      }
    },
    {
      "cell_type": "code",
      "source": [
        "def create_roll(piano_roll):\n",
        "  ans = np.zeros(piano_roll.shape[0])\n",
        "  itemp0 = np.where(piano_roll==0)\n",
        "  itemp1 = np.where(piano_roll!=0)\n",
        "  ans[itemp0] = 0 #0で休符\n",
        "  ans[itemp1] = np.mod(piano_roll[itemp1]-1,12) + 1 #1-12で音階\n",
        "  return ans"
      ],
      "metadata": {
        "id": "HeZIdBWKmpk3"
      },
      "execution_count": null,
      "outputs": []
    },
    {
      "cell_type": "code",
      "source": [
        "binary_mat = np.zeros([13,length])\n",
        "for t in range(length):\n",
        "  temp_roll = create_roll(piano_roll)\n",
        "  binary_mat[int(temp_roll[t]),t] = 1\n",
        "print(binary_mat)"
      ],
      "metadata": {
        "id": "OvqdctJ1GS54"
      },
      "execution_count": null,
      "outputs": []
    },
    {
      "cell_type": "markdown",
      "source": [
        "こうすればQUBOから生成された0と1の結果と見ることができます。\n",
        "データは実際こうなっていたから、量子アニーリングマシンにも似たような結果を出せるように調整をする。\n",
        "それがボルツマンマシンでやることでしたね。\n",
        "\n",
        "これを楽器毎、たくさんのデータを用意すれば良いですね。\n",
        "また1つ1つのデータをベクトルに直す（0と1が１列に並んだものにする）必要があります。\n",
        "そのためにこの0と1の行列をベクトルに直しましょう。\n",
        "そのためにflattenというのを利用すると良いです。"
      ],
      "metadata": {
        "id": "kszrLKMaGSY3"
      }
    },
    {
      "cell_type": "code",
      "source": [
        "binary_vec = binary_mat.flatten()\n",
        "print(binary_vec)"
      ],
      "metadata": {
        "id": "WzDm0oCjKxpn"
      },
      "execution_count": null,
      "outputs": []
    },
    {
      "cell_type": "markdown",
      "source": [
        "元に戻すためにはreshapeをします。\n",
        "ここは画像の場合と同じですね。"
      ],
      "metadata": {
        "id": "vXtvsvXSK234"
      }
    },
    {
      "cell_type": "code",
      "source": [
        "print(binary_vec.reshape(13,8))"
      ],
      "metadata": {
        "id": "0YfgwtDSL47c"
      },
      "execution_count": null,
      "outputs": []
    },
    {
      "cell_type": "markdown",
      "source": [
        "それでは準備完了です。\n",
        "大量にある楽曲データを全て0と1のベクトルにして集めましょう。\n"
      ],
      "metadata": {
        "id": "Ju7O7m3nL-Lm"
      }
    },
    {
      "cell_type": "code",
      "source": [
        "num_data = 100000\n",
        "binary_matrix = np.zeros((4,num_data, length*13))\n",
        "random_nums = np.random.randint(0,len(key_list),num_data)\n",
        "for k in range(num_data):\n",
        "  piano_rolls = data_dict[key_list[random_nums[k]]][2]\n",
        "  music_length = len(piano_rolls[:,0])\n",
        "  mstart = np.random.randint(0,music_length-length)\n",
        "  for m in range(4):\n",
        "    binary_mat = np.zeros([13,length])\n",
        "    piano_roll = piano_rolls[mstart:mstart+length,m]\n",
        "    temp_roll = create_roll(piano_roll)\n",
        "    for t in range(length):\n",
        "      binary_mat[int(temp_roll[t]),t] = 1\n",
        "    binary_vec = binary_mat.flatten()\n",
        "    binary_matrix[m,k,:] = binary_vec"
      ],
      "metadata": {
        "id": "B00PZ8vTlLTp"
      },
      "execution_count": null,
      "outputs": []
    },
    {
      "cell_type": "markdown",
      "source": [
        "これでデータの準備が整いました。\n",
        "それではボルツマンマシンを実行することにしましょう。\n",
        "まずは量子アニーリングマシンのセッティングをしてしまいましょう。"
      ],
      "metadata": {
        "id": "pD4PA_QcOVGS"
      }
    },
    {
      "cell_type": "code",
      "source": [
        "from dwave.system import DWaveSampler,FixedEmbeddingComposite\n",
        "token = \"XXXX\"\n",
        "dw_sampler = DWaveSampler(solver='Advantage_system4.1', token=token)"
      ],
      "metadata": {
        "id": "Mi1n-PrUzT4S"
      },
      "execution_count": null,
      "outputs": []
    },
    {
      "cell_type": "markdown",
      "source": [
        "まずは埋め込み（Embedding）を実行しておきましょう。\n",
        "適切なサイズのQUBOを作成しておきます。"
      ],
      "metadata": {
        "id": "0bmv9qIwQkzp"
      }
    },
    {
      "cell_type": "code",
      "source": [
        "N = 13*length"
      ],
      "metadata": {
        "id": "_iVTzYLxQsHi"
      },
      "execution_count": null,
      "outputs": []
    },
    {
      "cell_type": "code",
      "source": [
        "from minorminer import find_embedding\n",
        "\n",
        "adj = {}\n",
        "for i in range(N):\n",
        "  for j in range(N):\n",
        "    adj[(i,j)] = 1\n",
        "\n",
        "embedding = find_embedding(adj, dw_sampler.edgelist)"
      ],
      "metadata": {
        "id": "fniFlEIIQxJv"
      },
      "execution_count": null,
      "outputs": []
    },
    {
      "cell_type": "markdown",
      "source": [
        "出来上がった埋め込みをFixedしてサンプラーを作りましょう。"
      ],
      "metadata": {
        "id": "J4g1u7vOTyBL"
      }
    },
    {
      "cell_type": "code",
      "source": [
        "sampler = FixedEmbeddingComposite(dw_sampler, embedding)"
      ],
      "metadata": {
        "id": "zRCmSdzrT4XC"
      },
      "execution_count": null,
      "outputs": []
    },
    {
      "cell_type": "markdown",
      "source": [
        "これで量子アニーリングマシンの準備もできました。\n",
        "それでは前回のボルツマンマシンの要領で学習するとしましょう。\n",
        "今回は楽器の種類別に実行する必要があります。\n",
        "そこでm=0として楽器をまずは1番目のものを指定しておきます。"
      ],
      "metadata": {
        "id": "ofNAlm3bRRCb"
      }
    },
    {
      "cell_type": "code",
      "source": [
        "m = 0\n",
        "qubo_data = np.zeros((N,N))\n",
        "for k in range(num_data):\n",
        "  qubo_data = qubo_data + np.outer(binary_matrix[m,k,:],binary_matrix[m,k,:])/num_data"
      ],
      "metadata": {
        "id": "1lk1wRcjzVd_"
      },
      "execution_count": null,
      "outputs": []
    },
    {
      "cell_type": "code",
      "source": [
        "num_reads = 100\n",
        "def comp_model(sampleset,num_reads=num_reads):\n",
        "  qubo_model = np.zeros((N,N))\n",
        "  for k in range(num_reads):\n",
        "    qubo_model = qubo_model + np.outer(sampleset.record[k][0],sampleset.record[k][0])/ num_reads\n",
        "  return qubo_model"
      ],
      "metadata": {
        "id": "_QscsacL8dAE"
      },
      "execution_count": null,
      "outputs": []
    },
    {
      "cell_type": "markdown",
      "source": [
        "これで準備完了です。\n",
        "それでは前回のボルツマンマシンのときと同様に学習の設定をしておきましょう。"
      ],
      "metadata": {
        "id": "zF2OhW1ITjf0"
      }
    },
    {
      "cell_type": "code",
      "source": [
        "Tall = 50\n",
        "eta = 0.1\n",
        "qubo = np.zeros([N,N])"
      ],
      "metadata": {
        "id": "pWdTKSDQLDVn"
      },
      "execution_count": null,
      "outputs": []
    },
    {
      "cell_type": "code",
      "source": [
        "for t in range(Tall):\n",
        "  sampleset = sampler.sample_qubo(qubo, num_reads=num_reads, answer_mode = \"raw\")\n",
        "  #sampleset = sampler.sample_qubo(qubo, num_reads=num_reads) シミュレータの場合\n",
        "  qubo_model = comp_model(sampleset)\n",
        "  qubo = qubo - eta*(qubo_data - qubo_model)"
      ],
      "metadata": {
        "id": "xu375AjQyu2f"
      },
      "execution_count": null,
      "outputs": []
    },
    {
      "cell_type": "markdown",
      "source": [
        "出来上がったquboに基づいて楽曲を試しに生成してみましょう。\n",
        "生成するのは量子アニーリングマシンにできあがったquboを入力すれば良いですね。\n",
        "\n",
        "現時点でどんなものが生成されているのかを見るには、sampleset.recordを実際に見てみると良いでしょう。"
      ],
      "metadata": {
        "id": "41X0DCMCUTJU"
      }
    },
    {
      "cell_type": "code",
      "source": [
        "sampleset.record[0][0].reshape(13,length)"
      ],
      "metadata": {
        "id": "LTKGUQeiGICp"
      },
      "execution_count": null,
      "outputs": []
    },
    {
      "cell_type": "markdown",
      "source": [
        "たまに精度が悪く2音以上出力されていることもあります。\n",
        "そういうときは縦方向に足したものは1個までという制限を設けて出力をさせます。\n",
        "量子アニーリングを利用する場合には罰金法という方法でそれを誘導します。"
      ],
      "metadata": {
        "id": "op5I3JVdloTX"
      }
    },
    {
      "cell_type": "code",
      "source": [
        "penalty = np.zeros([N,N])\n",
        "\n",
        "for t in range(length):\n",
        "  for i in range(13):\n",
        "    for j in range(13):\n",
        "      penalty[i*length + t,j*length + t] += 1\n",
        "      if i == j:\n",
        "        penalty[i*length + t,j*length + t] -= 2"
      ],
      "metadata": {
        "id": "vpyNh5u6pvBb"
      },
      "execution_count": null,
      "outputs": []
    },
    {
      "cell_type": "code",
      "source": [
        "from openjij import SASampler\n",
        "samplerSA = SASampler()"
      ],
      "metadata": {
        "id": "uLeKzxdasoax"
      },
      "execution_count": null,
      "outputs": []
    },
    {
      "cell_type": "code",
      "source": [
        "lam = 0.5\n",
        "sampleset = sampler.sample_qubo(qubo + lam*penalty, num_reads=num_reads)"
      ],
      "metadata": {
        "id": "Ojr1oRY4qUXn"
      },
      "execution_count": null,
      "outputs": []
    },
    {
      "cell_type": "code",
      "source": [
        "sampleset.record[1][0].reshape(13,length)"
      ],
      "metadata": {
        "id": "ZMfmq26nYAjg"
      },
      "execution_count": null,
      "outputs": []
    },
    {
      "cell_type": "code",
      "source": [
        "note_list = []\n",
        "temp_mat = sampleset.record[0][0].reshape(13,length)\n",
        "for t in range(length):\n",
        "  note_list.append(np.argmax(temp_mat[:,t]))"
      ],
      "metadata": {
        "id": "Fq9H3WZYKbzN"
      },
      "execution_count": null,
      "outputs": []
    },
    {
      "cell_type": "code",
      "source": [
        "note_list"
      ],
      "metadata": {
        "id": "m_HfdP5bKkXd"
      },
      "execution_count": null,
      "outputs": []
    },
    {
      "cell_type": "markdown",
      "source": [
        "うまく幾つかの結果がでてきたらあとは実際に音を鳴らすというところである。\n",
        "そこでmusic21を再び利用しよう。\n",
        "そのために基本は四分音符であるとして0-11の音をCDEF...と割り当てていくことにする。"
      ],
      "metadata": {
        "id": "uInQjalgI2FH"
      }
    },
    {
      "cell_type": "code",
      "source": [
        "note_dict = {}\n",
        "note_dict[0] = 'r'\n",
        "note_dict[1] = 'c'\n",
        "note_dict[2] = 'c#'\n",
        "note_dict[3] = 'd'\n",
        "note_dict[4] = 'd#'\n",
        "note_dict[5] = 'e'\n",
        "note_dict[6] = 'f'\n",
        "note_dict[7] = 'f#'\n",
        "note_dict[8] = 'g'\n",
        "note_dict[9] = 'g#'\n",
        "note_dict[10] = 'a'\n",
        "note_dict[11] = 'a#'\n",
        "note_dict[12] = 'b'"
      ],
      "metadata": {
        "id": "PGfuNZ1TqlXK"
      },
      "execution_count": null,
      "outputs": []
    },
    {
      "cell_type": "markdown",
      "source": [
        "まずは楽譜を作ってみましょう。サンプルにあるように\n",
        "\n",
        "'tinyNotation: 4/4 c4 d4 e4 f4 e4 d4 c4 r e4 f4 g4 a4 g4 f4 e4 r c4 r c4 r c4 r c4 r c8 c8 d8 d8 e8 e8 f8 f8 e4 d4 c4 r'\n",
        "\n",
        "という形で書けば良いので、'tinyNotation: 4/4'\n",
        "までは先に入力しておき、その後に文字列を追加していき楽譜としましょう。"
      ],
      "metadata": {
        "id": "CWR05mUP0gE1"
      }
    },
    {
      "cell_type": "code",
      "source": [
        "gen_score = 'tinyNotation: 4/4'\n",
        "for t in range(length):\n",
        "  gen_score += ' ' + note_dict[note_list[t]]\n",
        "print(gen_score)"
      ],
      "metadata": {
        "id": "dad-wRjkKUcL"
      },
      "execution_count": null,
      "outputs": []
    },
    {
      "cell_type": "markdown",
      "source": [
        "以下のようにconverter.parseで楽譜やMIDIでの再生が可能な形式に変換します。"
      ],
      "metadata": {
        "id": "cxtxmflB2sV1"
      }
    },
    {
      "cell_type": "code",
      "source": [
        "cp = converter.parse(gen_score)"
      ],
      "metadata": {
        "id": "KF1P86zD1RzJ"
      },
      "execution_count": null,
      "outputs": []
    },
    {
      "cell_type": "markdown",
      "source": [
        "まずは楽譜を見てみましょう！"
      ],
      "metadata": {
        "id": "sONmjw4X2yZh"
      }
    },
    {
      "cell_type": "code",
      "source": [
        "cp.show()"
      ],
      "metadata": {
        "id": "2OLFt6Uk1gWM"
      },
      "execution_count": null,
      "outputs": []
    },
    {
      "cell_type": "markdown",
      "source": [
        "では実際に演奏をしてみましょう！\n",
        "いかがでしたでしょうか？"
      ],
      "metadata": {
        "id": "YUBYCKkt2pQW"
      }
    },
    {
      "cell_type": "code",
      "source": [
        "cp.show('midi')"
      ],
      "metadata": {
        "id": "ctwsQhom3gUl"
      },
      "execution_count": null,
      "outputs": []
    },
    {
      "cell_type": "markdown",
      "source": [
        "それではD-Wave Advantageからの出力結果を次々と追記して\n",
        "一連の楽曲を聴いてみましょう。\n",
        "note_listではなく直接量子アニーリングマシンからの出力結果をgen_scoreに伝えていきます。"
      ],
      "metadata": {
        "id": "-0GgkOGU25RV"
      }
    },
    {
      "cell_type": "code",
      "source": [
        "gen_score = 'tinyNotation: 4/4'\n",
        "for k in range(num_reads//4):\n",
        "  temp_mat = sampleset.record[k][0].reshape(13,length)\n",
        "  for t in range(length):\n",
        "    gen_score += ' ' + note_dict[np.argmax(temp_mat[:,t])]\n",
        "print(gen_score)"
      ],
      "metadata": {
        "id": "qSmBsqut2-K6"
      },
      "execution_count": null,
      "outputs": []
    },
    {
      "cell_type": "markdown",
      "source": [
        "この結果をconverter.parseしてみましょう。"
      ],
      "metadata": {
        "id": "IMuP5HKj3h0s"
      }
    },
    {
      "cell_type": "code",
      "source": [
        "cp = converter.parse(gen_score)"
      ],
      "metadata": {
        "id": "nlKy-JiE3U6a"
      },
      "execution_count": null,
      "outputs": []
    },
    {
      "cell_type": "markdown",
      "source": [
        "世界初。量子アニーリングマシンが奏でるNES musicです！！"
      ],
      "metadata": {
        "id": "FRICLOpD3WzO"
      }
    },
    {
      "cell_type": "code",
      "source": [
        "cp.show('midi')"
      ],
      "metadata": {
        "id": "yRdwg_B83Uee"
      },
      "execution_count": null,
      "outputs": []
    },
    {
      "cell_type": "markdown",
      "source": [
        "楽譜も表示できますし"
      ],
      "metadata": {
        "id": "79_2j3WdQWYO"
      }
    },
    {
      "cell_type": "code",
      "source": [
        "cp.show()"
      ],
      "metadata": {
        "id": "ThTBYerpO2wY"
      },
      "execution_count": null,
      "outputs": []
    },
    {
      "cell_type": "markdown",
      "source": [
        "この楽譜をpng等で保存することもできます。"
      ],
      "metadata": {
        "id": "r8ifsmpcQYe-"
      }
    },
    {
      "cell_type": "code",
      "source": [
        "cp.write('midi',\"./QAsong.mid\")"
      ],
      "metadata": {
        "id": "cpzcxa-sPfF3"
      },
      "execution_count": null,
      "outputs": []
    },
    {
      "cell_type": "markdown",
      "source": [
        "こちらのmidiファイルをwavファイルに切り替えることも可能です。"
      ],
      "metadata": {
        "id": "19Z3NHUqR1uq"
      }
    },
    {
      "cell_type": "markdown",
      "source": [
        "まずはちょっとおまじないから。\n",
        "fluidsynthというプログラムをインストールします。これでmidi2audioが利用できるようになります。"
      ],
      "metadata": {
        "id": "A-86L2cyR6Gz"
      }
    },
    {
      "cell_type": "code",
      "source": [
        "!apt install fluidsynth\n",
        "!cp /usr/share/sounds/sf2/FluidR3_GM.sf2 ./font.sf2\n",
        "!pip install midi2audio"
      ],
      "metadata": {
        "id": "SaCiK_cpQdJg"
      },
      "execution_count": null,
      "outputs": []
    },
    {
      "cell_type": "markdown",
      "source": [
        "ちょっとしたおまじないの後に以下のように元ファイル名と変換後のファイル名を指定します。"
      ],
      "metadata": {
        "id": "TND4XDl1ZW5j"
      }
    },
    {
      "cell_type": "code",
      "source": [
        "from midi2audio import FluidSynth\n",
        "fs = FluidSynth(sound_font='font.sf2')\n",
        "fs.midi_to_audio('QAsong.mid', 'QAsong.wav')"
      ],
      "metadata": {
        "id": "5YR-4yQgR5cz"
      },
      "execution_count": null,
      "outputs": []
    },
    {
      "cell_type": "markdown",
      "source": [
        "保存されているwavファイルを再生するにはこちら。バッチリですね！"
      ],
      "metadata": {
        "id": "rVXsvOUnZb98"
      }
    },
    {
      "cell_type": "code",
      "source": [
        "from IPython.display import Audio\n",
        "Audio('QAsong.wav')"
      ],
      "metadata": {
        "id": "GzqgdhiDSG9q"
      },
      "execution_count": null,
      "outputs": []
    },
    {
      "cell_type": "markdown",
      "source": [
        "## おまけ\n",
        "\n",
        "ここまでは8音を繰り返して出力しているだけですね。\n",
        "前の音が何々だったから、次はこうする、という続けていくような出力しなければ音楽らしくなりませんね。\n",
        "\n",
        "まずは最初の出力は適当に量子アニーリングマシンの出力結果を利用しましょう。"
      ],
      "metadata": {
        "id": "bVGQ9VHzkJd9"
      }
    },
    {
      "cell_type": "code",
      "source": [
        "temp_list = []\n",
        "temp_mat = sampleset.record[0][0].reshape(13,length)\n",
        "for t in range(length):\n",
        "  temp_list.append(temp_mat[:,t])"
      ],
      "metadata": {
        "id": "FknKYRhASKHW"
      },
      "execution_count": null,
      "outputs": []
    },
    {
      "cell_type": "markdown",
      "source": [
        "このうちの最後の4音を利用して次の音を生成するというスキームにしていきましょう。"
      ],
      "metadata": {
        "id": "Ft4TwcrmoAru"
      }
    },
    {
      "cell_type": "markdown",
      "source": [
        "まずその４音だけを抜き取っておきます。"
      ],
      "metadata": {
        "id": "ceDD5RGjoNGv"
      }
    },
    {
      "cell_type": "code",
      "source": [
        "last4 = np.array(temp_list[-4:]).flatten()"
      ],
      "metadata": {
        "id": "an64HTSWltZA"
      },
      "execution_count": null,
      "outputs": []
    },
    {
      "cell_type": "markdown",
      "source": [
        "4音と13（12音階＋休符）だけquboを抜き取ります。"
      ],
      "metadata": {
        "id": "MqTGTEJcpC-_"
      }
    },
    {
      "cell_type": "markdown",
      "source": [
        "quboから同じように前半4音を取り出し、そこに今抜き取った4音を掛け算します。その上で次の4音にかかるquboを抜き取ります。\n",
        "そうすると次の4音分はどれが良いのか、傾向としてのバイアスを得ることができます。"
      ],
      "metadata": {
        "id": "yxjBSv1lpn2g"
      }
    },
    {
      "cell_type": "code",
      "source": [
        "next_vec = np.dot(last4,qubo[:-4*13,-4*13:])"
      ],
      "metadata": {
        "id": "hC0jB0zboYci"
      },
      "execution_count": null,
      "outputs": []
    },
    {
      "cell_type": "markdown",
      "source": [
        "これを後半4音を与えるquboに付け足します。"
      ],
      "metadata": {
        "id": "AtRd9AOEqEqi"
      }
    },
    {
      "cell_type": "code",
      "source": [
        "next_qubo = qubo + np.diag(np.concatenate([next_vec,np.zeros(4*13)]))"
      ],
      "metadata": {
        "id": "aE9pm0Mdo-pO"
      },
      "execution_count": null,
      "outputs": []
    },
    {
      "cell_type": "code",
      "source": [
        "lam = 0.5\n",
        "sampleset = sampler.sample_qubo(next_qubo + lam*penalty, num_reads=1)"
      ],
      "metadata": {
        "id": "kpvSGzbLqw-H"
      },
      "execution_count": null,
      "outputs": []
    },
    {
      "cell_type": "markdown",
      "source": [
        "これでまた8音が生成されました。\n",
        "最後の4つをまた採用して続けていきましょう。"
      ],
      "metadata": {
        "id": "1TJh832_rCNf"
      }
    },
    {
      "cell_type": "code",
      "source": [
        "for step in range(Tall):\n",
        "  temp_mat = sampleset.record[0][0].reshape(13,length)\n",
        "  for t in range(length):\n",
        "    temp_list.append(temp_mat[:,t])\n",
        "  last4 = np.array(temp_list[-4:]).flatten()\n",
        "  next_vec = np.dot(last4,qubo[:-4*13,-4*13:])\n",
        "  next_qubo = qubo + np.diag(np.concatenate([next_vec,np.zeros(4*13)]))\n",
        "  sampleset = sampler.sample_qubo(next_qubo + lam*penalty, num_reads=1)"
      ],
      "metadata": {
        "id": "LEMiEJAHq4h4"
      },
      "execution_count": null,
      "outputs": []
    },
    {
      "cell_type": "markdown",
      "source": [
        "これで出来上がったtemp_listから楽譜を作ってみましょう。"
      ],
      "metadata": {
        "id": "onJcEq9FrhP9"
      }
    },
    {
      "cell_type": "code",
      "source": [
        "note_list = []\n",
        "for t in range(len(temp_list)):\n",
        "  note_list.append(np.argmax(temp_list[t]))"
      ],
      "metadata": {
        "id": "eZ4nzBiqrWbQ"
      },
      "execution_count": null,
      "outputs": []
    },
    {
      "cell_type": "code",
      "source": [
        "gen_score = 'tinyNotation: 4/4'\n",
        "for t in range(len(note_list)):\n",
        "  gen_score += ' ' + note_dict[note_list[t]]\n",
        "print(gen_score)"
      ],
      "metadata": {
        "id": "h-h_4k6arfs8"
      },
      "execution_count": null,
      "outputs": []
    },
    {
      "cell_type": "code",
      "source": [
        "cp = converter.parse(gen_score)"
      ],
      "metadata": {
        "id": "BQEwrmVEryXn"
      },
      "execution_count": null,
      "outputs": []
    },
    {
      "cell_type": "code",
      "source": [
        "cp.show('midi')"
      ],
      "metadata": {
        "id": "h5Iibut6sE8C"
      },
      "execution_count": null,
      "outputs": []
    },
    {
      "cell_type": "code",
      "source": [
        "cp.show()"
      ],
      "metadata": {
        "id": "Z76bLQ_OsJpr"
      },
      "execution_count": null,
      "outputs": []
    },
    {
      "cell_type": "code",
      "source": [
        "cp.write('midi',\"./QAsong.mid\")"
      ],
      "metadata": {
        "id": "Gb4LI03bsSlC"
      },
      "execution_count": null,
      "outputs": []
    },
    {
      "cell_type": "code",
      "source": [],
      "metadata": {
        "id": "uS_uXzKKsXY7"
      },
      "execution_count": null,
      "outputs": []
    }
  ]
}