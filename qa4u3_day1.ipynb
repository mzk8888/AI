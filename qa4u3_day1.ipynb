{
  "nbformat": 4,
  "nbformat_minor": 0,
  "metadata": {
    "colab": {
      "private_outputs": true,
      "provenance": [],
      "include_colab_link": true
    },
    "kernelspec": {
      "name": "python3",
      "display_name": "Python 3"
    },
    "language_info": {
      "name": "python"
    }
  },
  "cells": [
    {
      "cell_type": "markdown",
      "metadata": {
        "id": "view-in-github",
        "colab_type": "text"
      },
      "source": [
        "<a href=\"https://colab.research.google.com/github/mzk8888/AI/blob/main/qa4u3_day1.ipynb\" target=\"_parent\"><img src=\"https://colab.research.google.com/assets/colab-badge.svg\" alt=\"Open In Colab\"/></a>"
      ]
    },
    {
      "cell_type": "markdown",
      "source": [
        "pythonによるプログラミング開発ではpip installで必要なライブラリを準備してから始めます。\n",
        "量子アニーリングマシンを用いた実験はアカウント登録をすると誰でもできるのですが、\n",
        "１ヶ月間・1分のみの利用となります。\n",
        "開催日時が1/31であることから初日はシミュレータであるOpenJijを利用させてもらいましょう。\n",
        "ほとんどの機能がD-Wave Systems社のサービスと同じなのでほぼシームレスでD-Wave Systems社の量子アニーリングマシンに移行できます。\n",
        "そのシミュレータの導入には、以下のおまじないコードを打ち出します。"
      ],
      "metadata": {
        "id": "XBNUhIdukWsy"
      }
    },
    {
      "cell_type": "code",
      "execution_count": null,
      "metadata": {
        "id": "drxD_nF9GFdS"
      },
      "outputs": [],
      "source": [
        "pip install openjij"
      ]
    },
    {
      "cell_type": "markdown",
      "source": [
        "ご自身のローカル環境へインストールする際も同様の手順で差し支えありません。 （ただし環境によってうまくインストールできるかどうかはわかりませんので、適宜ご対応いただければと思います） これで量子アニーリングのシミュレーションを利用することができる準備が整いました。こちらは基本的に無料で無制限に利用できますから、初期検討や実験準備をする段階で活用してください。"
      ],
      "metadata": {
        "id": "gwRQilpclKsk"
      }
    },
    {
      "cell_type": "markdown",
      "source": [
        "## 量子アニーリングの目的\n",
        "\n",
        "量子アニーリングは、「組合せ最適化問題」を解くために生まれた技術です！  \n",
        "最適化問題と聞くと「うわ、数学だ…」と身構えるかもしれません。でも実は、これって中学・高校でやった「最大値・最小値を求めなさい」といった問題の発展版なんです。  \n",
        "\n",
        "たとえば、将来の収入を予測する関数があれば、それを最大化したいですよね。逆に、将来の苦労を予測する関数なら、それを最小化して楽な人生を送りたい！  \n",
        "こういった考え方を量子アニーリングでは、自然の力を利用して実現してくれるんです。\n",
        "\n",
        "## 量子アニーリングによる「関数の最小化」\n",
        "\n",
        "量子アニーリングでは、次のような関数の最小値と、そのときの最小値を与えるベストな「x」組み合わせを探してくれます。\n",
        "\n",
        "\\[\n",
        "E({\\bf x}) \\sum_{i=1}^N \\sum_{j=1}^N Q_{ij}x_ix_j\n",
        "\\]\n",
        "\n",
        "「シグマ記号」をみて「なんかカッコイイ！でも難しそう…」と思った方、大丈夫です！要するに「全部足し算してるだけ」です。添え字は「考える要素が複数あるよ」ということを端的に表しているだけです。  \n",
        "\n",
        "こういった関数を最小化する問題を、「制約なし2値の2次計画問題」と呼びます。英語だと **QUBO** (Quadratic Unconstrained Binary Optimization) といいます。  \n",
        "この最小化の対象となる関数は「コスト関数」と呼ばれ、量子アニーリングにとってはいわば解決すべきお題のようなものです。\n",
        "\n",
        "## 量子アニーリングマシンに命令を送る方法\n",
        "\n",
        "量子アニーリングマシンに解かせたい問題を指示するには、「QUBO行列」というものを作って送ります。この行列は、問題の要素をギュッと詰め込んだ指令書のようなもの。量子アニーリングマシンは、この指令書を受け取って計算を始めます。  \n",
        "\n",
        "ちなみに、このQUBO行列を作るときに使える便利ツールが **Python** のライブラリ「numpy」です。これを使えば、行列もサクッと準備できます！\n",
        "\n",
        "## 簡単な問題を解かせてみよう！\n",
        "\n",
        "問題を送るときは、先ほど紹介した **QUBO行列** を作って、それをカナダにある量子アニーリングマシンに送信するだけです。それの練習と思って今回はOpenJijによるシミュレータに投げてみましょう。\n",
        "\n",
        "Python の **numpy** を使えば、行列作成はとっても簡単。まずはそうしたライブラリを利用するための準備です。importしましょう！\n"
      ],
      "metadata": {
        "id": "vb06nEYWlk9h"
      }
    },
    {
      "cell_type": "code",
      "source": [
        "import numpy as np"
      ],
      "metadata": {
        "id": "oWE4Yw_smmea"
      },
      "execution_count": null,
      "outputs": []
    },
    {
      "cell_type": "markdown",
      "source": [
        "次に簡単な例として、50×50行列によるQUBOを考えてみます。 np.random.randn()は、平均0、分散1のガウス分布に従う乱数を生成するという関数です。\n",
        "それをN**2=25000個作ったのち、reshape(N,N)として、50×50の行列の形にします。"
      ],
      "metadata": {
        "id": "rKqjQ_ZumltG"
      }
    },
    {
      "cell_type": "code",
      "source": [
        "#変数の数を10個に指定します\n",
        "N = 50\n",
        "#QUBO行列を作ります\n",
        "QUBO = np.random.randn(N**2).reshape(N,N)\n",
        "#細かいことですが、対称行列にしましょう。\n",
        "QUBO = (QUBO + QUBO.T)/2"
      ],
      "metadata": {
        "id": "PYkZa1xWfSf8"
      },
      "execution_count": null,
      "outputs": []
    },
    {
      "cell_type": "markdown",
      "source": [
        "ここでQUBO+QUBO.Tというところで、.Tというコマンドで転置をとっています。 行列の形を対称な形にするためです（細かいことですがたまに忘れます） どんな値になっているのか調べたい人はprint等を利用して調べてみると良いでしょう。\n",
        "\n",
        "さてこうした下準備が終わりましたら、シミュレータに投入してみましょう。 これだけで準備完了です。"
      ],
      "metadata": {
        "id": "XXjRxtHpmhlh"
      }
    },
    {
      "cell_type": "code",
      "source": [
        "from openjij import SQASampler"
      ],
      "metadata": {
        "id": "K5nAfQCvf2_i"
      },
      "execution_count": null,
      "outputs": []
    },
    {
      "cell_type": "markdown",
      "source": [
        "**from openjij**とあるのはOpenJijから呼び出すということですね。\n",
        "**import SQASampler**でSQASamplerという関数を呼び出しています。\n",
        "このSQAという言葉が、シミュレーテッド量子アニーリング（Simulated Quantum Annealing）という意味でして、量子アニーリングのシミュレーション用の関数です。"
      ],
      "metadata": {
        "id": "2bXVaV6gnDQV"
      }
    },
    {
      "cell_type": "code",
      "source": [
        "sampler = SQASampler()"
      ],
      "metadata": {
        "id": "3wVNtgG4RHa4"
      },
      "execution_count": null,
      "outputs": []
    },
    {
      "cell_type": "markdown",
      "source": [
        "これでシミュレータの準備完了です。みなさんのQUBO行列をなんでも埋め込めるようになりました。それでは早速シミュレータに問題を投入しましょう。 以下のコマンドでOKです。その際にnum_readsで何回量子アニーリングを実行するのかを指定しましょう。"
      ],
      "metadata": {
        "id": "y2t7IrTknRTc"
      }
    },
    {
      "cell_type": "code",
      "source": [
        "sampleset = sampler.sample_qubo(QUBO, num_reads=100)"
      ],
      "metadata": {
        "id": "BZmip1uqh6ZV"
      },
      "execution_count": null,
      "outputs": []
    },
    {
      "cell_type": "markdown",
      "source": [
        "このコマンドを実行すると、シミュレータ上ですが、量子アニーリングを実行します。一瞬で終わったかと思いますが、どんな結果が出てきたのかを確認してみましょう。そういうときにはsampleset.recordなどを打つと良いでしょう。"
      ],
      "metadata": {
        "id": "TUEQyZfQnSAB"
      }
    },
    {
      "cell_type": "code",
      "source": [
        "print(sampleset.record)"
      ],
      "metadata": {
        "id": "X8DJb8UTjKzC"
      },
      "execution_count": null,
      "outputs": []
    },
    {
      "cell_type": "markdown",
      "source": [
        "いくつか数値が並んでいますが、最初にある0,1のリスト（たくさんの数字の要素が並んでカッコでまとめられているもの）が結果です。\n",
        "次にある数値がエネルギー、これはコスト関数の値が実際どのような値になるのかがわかると言うものです。次に出てくる整数値は何回その結果が出てきたと言うものです。"
      ],
      "metadata": {
        "id": "Tu0oDs19nob5"
      }
    },
    {
      "cell_type": "markdown",
      "source": [
        "コスト関数がどのような値を取っていたのか、その頻度をプロットしたヒストグラムを描くのに便利です。エネルギーだけのリスト（numpy.array）を取得するためにはsampleset.data_vectors[\"energy\"] を利用します。"
      ],
      "metadata": {
        "id": "38pdQ4ofnWre"
      }
    },
    {
      "cell_type": "code",
      "source": [
        "ene = sampleset.data_vectors[\"energy\"]"
      ],
      "metadata": {
        "id": "j6kZ6RceR3p4"
      },
      "execution_count": null,
      "outputs": []
    },
    {
      "cell_type": "markdown",
      "source": [
        "どんなエネルギーの値が、どれだけの頻度出現したのか、ヒストグラムを調べてみることにしましょう。\n",
        "そうした結果のグラフ化に使うライブラリもPythonでは用意されていて、matplotlibを利用します。"
      ],
      "metadata": {
        "id": "BduSfNHcR65c"
      }
    },
    {
      "cell_type": "code",
      "source": [
        "import matplotlib.pyplot as plt"
      ],
      "metadata": {
        "id": "JlL3PAoQqVBk"
      },
      "execution_count": null,
      "outputs": []
    },
    {
      "cell_type": "markdown",
      "source": [
        "その上でplt.hist関数を利用すればヒストグラムを描くことができます。"
      ],
      "metadata": {
        "id": "LJ7NFHjQSJU6"
      }
    },
    {
      "cell_type": "code",
      "source": [
        "plt.hist(ene, bins=20)\n",
        "plt.show()"
      ],
      "metadata": {
        "id": "07GZGAvSSOEA"
      },
      "execution_count": null,
      "outputs": []
    },
    {
      "cell_type": "markdown",
      "source": [
        "それではこれを残しておいて、別の条件でいくつか結果を出して比較してみましょう。\n",
        "そのために結果を格納しておく辞書を用意します。"
      ],
      "metadata": {
        "id": "bl4lgnNTqYvR"
      }
    },
    {
      "cell_type": "code",
      "source": [
        "ene_dict = {}\n",
        "ene_dict[1000] = ene"
      ],
      "metadata": {
        "id": "R5eu2mHXUpEY"
      },
      "execution_count": null,
      "outputs": []
    },
    {
      "cell_type": "markdown",
      "source": [
        "辞書はデータを複数格納しておくのに便利です。\"default\"という名前で指定したキーに紐づけられた各種データをそのまま残しておくことができます。"
      ],
      "metadata": {
        "id": "bArsHXLiUxKq"
      }
    },
    {
      "cell_type": "markdown",
      "source": [
        "\n",
        "量子アニーリングでは実行時間によって、探索の範囲が変化していきます。じっくりゆっくりと長い時間をかけて行けば、多くの範囲が探索できますので精度が良くなります。逆に短ければあまり多くの範囲を探索できません。\n",
        "その探索時間を変えるには、sample_quboのところでオプションを選択します。\n",
        "num_sweepsで実行ステップ数（アニーリング時間）を変えることができます。\n",
        "num_sweeps = 1000がデフォルト値ですので、そこから短くしてみましょう。"
      ],
      "metadata": {
        "id": "_H8OF1KVUpX3"
      }
    },
    {
      "cell_type": "code",
      "source": [
        "sampleset = sampler.sample_qubo(QUBO, num_sweeps= 10, num_reads=100)"
      ],
      "metadata": {
        "id": "Cw9QyoAfqdJ4"
      },
      "execution_count": null,
      "outputs": []
    },
    {
      "cell_type": "markdown",
      "source": [
        "結果の表示までまとめて実行してみましょう。"
      ],
      "metadata": {
        "id": "q6PsPRFGqj-D"
      }
    },
    {
      "cell_type": "code",
      "source": [
        "ene = sampleset.data_vectors[\"energy\"]\n",
        "plt.hist(ene, bins=20)\n",
        "plt.show()"
      ],
      "metadata": {
        "id": "ZFeJN_N1qilc"
      },
      "execution_count": null,
      "outputs": []
    },
    {
      "cell_type": "markdown",
      "source": [
        "おそらく結果が異なる傾向にあると思います。\n",
        "\n",
        "それでは次々に実行してヒストグラムを重ね打ちしてみることにしましょう。\n",
        "次々に実行する条件をリストという形式で用意します。"
      ],
      "metadata": {
        "id": "ixioQ0M7qqGN"
      }
    },
    {
      "cell_type": "code",
      "source": [
        "num_sweep_list = [10,100,500]"
      ],
      "metadata": {
        "id": "3N3zo4haZhK1"
      },
      "execution_count": null,
      "outputs": []
    },
    {
      "cell_type": "markdown",
      "source": [
        "この用意した数値をnum_sweepsに次々と代入して結果を表示することにします。\n",
        "for文という繰り返し同じ作業をするためのプログラムを利用します。\n",
        "その際にnum_sweep_listの中にあるもの（in）をnum_sweepとして順次利用するという書き方ができます。"
      ],
      "metadata": {
        "id": "44w61kQzchTM"
      }
    },
    {
      "cell_type": "code",
      "source": [
        "for num_sweep in num_sweep_list:\n",
        "  sampleset = sampler.sample_qubo(QUBO, num_sweeps= num_sweep, num_reads=100)\n",
        "  ene = sampleset.data_vectors[\"energy\"]\n",
        "  ene_dict[num_sweep] = ene"
      ],
      "metadata": {
        "id": "LAG1khzEclig"
      },
      "execution_count": null,
      "outputs": []
    },
    {
      "cell_type": "markdown",
      "source": [
        "せっかくですので重ねて比較してみましょう。 range=(min,max)で範囲を揃えて描くと綺麗に仕上がります。\n",
        "凡例がわかるようにlabelの指定、そしてplt.legend()を利用しましょう。\n",
        "ここでenedictにあるkeys（10,100,500,そして1000）利用してfor文の要素として使います。"
      ],
      "metadata": {
        "id": "i5olNG5tZg16"
      }
    },
    {
      "cell_type": "code",
      "source": [
        "for num_sweep in ene_dict.keys():\n",
        "  plt.hist(ene_dict[num_sweep], bins=50, alpha=0.3, label=num_sweep)\n",
        "plt.legend(loc='upper right')\n",
        "plt.show()"
      ],
      "metadata": {
        "id": "DVUE51FtqpdL"
      },
      "execution_count": null,
      "outputs": []
    },
    {
      "cell_type": "markdown",
      "source": [
        "num_sweepが長い方が低いエネルギーをとることがわかります。range(min,max)というオプションをつけて範囲を指定すると綺麗に揃ったヒストグラムが描けます。"
      ],
      "metadata": {
        "id": "3DBe0jkvqs2R"
      }
    },
    {
      "cell_type": "markdown",
      "source": [
        "## いくつかあるサンプラーとその設定\n",
        "量子アニーリングのシミュレーションにおいては仮想的にコピーを用意する鈴木トロッター分解という計算手法を利用しています。そのコピーの数が多い方が量子系のシミュレーションとして正確です。そのトロッター数を指定することもできます。\n",
        "\n"
      ],
      "metadata": {
        "id": "ONvyr97G-P8Q"
      }
    },
    {
      "cell_type": "code",
      "source": [
        "ene_dict = {}\n",
        "ene_list = []\n",
        "\n",
        "trotter_list = [2,4,8,12,24,36,48]\n",
        "for trotter in trotter_list:\n",
        "  sampleset = sampler.sample_qubo(QUBO, num_sweeps= 10, trotter= trotter, num_reads=10)\n",
        "  ene = sampleset.data_vectors[\"energy\"]\n",
        "  ene_dict[trotter] = ene\n",
        "  ene_list.append(ene.mean())"
      ],
      "metadata": {
        "id": "UhizYY1r-d_-"
      },
      "execution_count": null,
      "outputs": []
    },
    {
      "cell_type": "markdown",
      "source": [
        "デフォルトのトロッター数は4です。それ以外にもいくつかの例で調べてみましょう。\n",
        "先ほどのlistを使って調べる方法を利用します。\n",
        "さらにここでlistを使って複数の値を記録しておく方法を紹介します。ene_list =[]と言うからのリストを用意します。その空のリストにappend、追加していくことで結果を格納していくと言う方法です。\n",
        "このように結果をリストで用意しておくと、グラフを描きやすいです。"
      ],
      "metadata": {
        "id": "bPqxYs3d-obG"
      }
    },
    {
      "cell_type": "code",
      "source": [
        "plt.plot(trotter_list,ene_list)\n",
        "plt.show()"
      ],
      "metadata": {
        "id": "47XV7bLEsCJQ"
      },
      "execution_count": null,
      "outputs": []
    },
    {
      "cell_type": "markdown",
      "source": [
        "この問題では大体4-12程度のトロッター数が良い答えを出しているように見えますね。\n",
        "トロッター数はあくまで量子力学のシミュレーションの精度を上げるためには大きな数が必要であるということを言っていて、必ずしも最適化問題を解くためには大きい方が良いというわけではありません。\n",
        "\n",
        "先ほどと同じようにヒストグラムを出すこともできます。"
      ],
      "metadata": {
        "id": "W_WQ2V9GsPd_"
      }
    },
    {
      "cell_type": "code",
      "source": [
        "for trotter in ene_dict.keys():\n",
        "  plt.hist(ene_dict[trotter], bins=20, alpha=0.3, label=trotter, range=(-160, -120))\n",
        "plt.legend(loc='upper right')\n",
        "plt.show()"
      ],
      "metadata": {
        "id": "vSDt3o14FPUd"
      },
      "execution_count": null,
      "outputs": []
    },
    {
      "cell_type": "markdown",
      "source": [
        "この問題では大体4-12程度のトロッター数が良い答えを出しているように見えますね。\n",
        "トロッター数はあくまで量子力学のシミュレーションの精度を上げるためには大きな数が必要であるということを言っていて、必ずしも最適化問題を解くためには大きい方が良いというわけではありません。"
      ],
      "metadata": {
        "id": "43Caw8VvFomm"
      }
    },
    {
      "cell_type": "markdown",
      "source": [
        "ちなみに量子アニーリングの名前の由来になったシミュレーテッドアニーリングというのもあります。\n",
        "鈴木トロッター分解という手段は取らずに純粋に0と1をランダムにある基準に従って動かしていくというものです。使い方も簡単で計算時間も早いです。"
      ],
      "metadata": {
        "id": "kSkB5X8mGcKa"
      }
    },
    {
      "cell_type": "code",
      "source": [
        "from openjij import SASampler\n",
        "sampler = SASampler()"
      ],
      "metadata": {
        "id": "DeIDwpHXGtzf"
      },
      "execution_count": null,
      "outputs": []
    },
    {
      "cell_type": "markdown",
      "source": [
        "samplerをSASamplerに切り替えるだけです。それ以外の部分は全く同様にしてできます。\n",
        "トロッター数を変えた量子アニーリングのシミュレータと比較してみましょう。"
      ],
      "metadata": {
        "id": "AY_PpOwaG8FP"
      }
    },
    {
      "cell_type": "code",
      "source": [
        "sampleset = sampler.sample_qubo(QUBO, num_sweeps= 10, num_reads=10)\n",
        "ene = sampleset.data_vectors[\"energy\"]\n",
        "ene_dict[\"SA\"] = ene"
      ],
      "metadata": {
        "id": "9hKeRDL1Gz_K"
      },
      "execution_count": null,
      "outputs": []
    },
    {
      "cell_type": "code",
      "source": [
        "for trotter in ene_dict.keys():\n",
        "  if trotter == \"SA\":\n",
        "    plt.hist(ene_dict[trotter], bins=20, alpha=1.0, label=trotter)\n",
        "  else:\n",
        "    plt.hist(ene_dict[trotter], bins=20, alpha=0.3, label=trotter)\n",
        "plt.legend(loc='upper right')\n",
        "plt.show()"
      ],
      "metadata": {
        "id": "Gstx_nQvG7e0"
      },
      "execution_count": null,
      "outputs": []
    },
    {
      "cell_type": "markdown",
      "source": [
        "こんな感じでSAは量子アニーリングのシミュレータSQAよりも最適化という観点では比較的良好な結果を出すことがあります。\n",
        "これは量子アニーリングが悪いというわけではなく、そのシミュレータの動作機構の問題で、わざわざコピーを作ってシミュレーションをするしかないので、結構無理強いをしているということでもあります。\n",
        "ただ素朴に最適化を目指すのであればSAで十分なこともあることに注意しましょう。"
      ],
      "metadata": {
        "id": "7qyvuSloHUQY"
      }
    },
    {
      "cell_type": "markdown",
      "source": [
        "## わかりやすい例題で量子アニーリング！"
      ],
      "metadata": {
        "id": "oK5STHN2t5s5"
      }
    },
    {
      "cell_type": "markdown",
      "source": [
        "それでは量子アニーリングの元々の出自でもある磁性体の模型であるイジング模型を例にシミュレーテッドアニーリングや量子アニーリングを実行してみましょう。"
      ],
      "metadata": {
        "id": "6Lqr_8aMQ6Ox"
      }
    },
    {
      "cell_type": "code",
      "source": [
        "N = 50\n",
        "Jmat = np.zeros([N,N])\n",
        "for i in range(N):\n",
        "  for j in range(N):\n",
        "    Jmat[i,j] = -1/(2*N)\n",
        "\n",
        "hvec = np.zeros(N)"
      ],
      "metadata": {
        "id": "6tBjH55DRHrD"
      },
      "execution_count": null,
      "outputs": []
    },
    {
      "cell_type": "markdown",
      "source": [
        "ここで用意したのはJmatとありますが、相互作用を示す行列です。そしてもうひとつhvecは磁場を表すベクトルです。\n",
        "１つ１つのスピンに何も磁場はかけず、互いに相互作用をしている様子を示しています。\n",
        "これをシミュレーテッドアニーリングで冷やしてみましょう。\n"
      ],
      "metadata": {
        "id": "L_mftkjgRXrY"
      }
    },
    {
      "cell_type": "code",
      "source": [
        "import dimod\n",
        "model = dimod.BinaryQuadraticModel(hvec, Jmat, 0.0, vartype='SPIN')\n",
        "qubo, offset = model.to_qubo()"
      ],
      "metadata": {
        "id": "PGRlHfogUDAo"
      },
      "execution_count": null,
      "outputs": []
    },
    {
      "cell_type": "markdown",
      "source": [
        "こうやってJmatとhvecによるモデルの指定方法もあります。0,1で問題を考えるのか、それとも-1,+1で問題を考えるのかの違いがあります。どちらの形式であっても最終的にquboに直すことができます。"
      ],
      "metadata": {
        "id": "mzi63xsSUDdw"
      }
    },
    {
      "cell_type": "code",
      "source": [
        "sampler = SASampler()"
      ],
      "metadata": {
        "id": "j6KLICPqRqqg"
      },
      "execution_count": null,
      "outputs": []
    },
    {
      "cell_type": "markdown",
      "source": [
        "シミュレーテッドアニーリングではどこまで冷やすのか、という最後の温度を指定することができます。\n",
        "そのオプションをbeta、逆温度というもので示します。\n",
        "温度の逆数ですのでbeta=1/Tであることに注意してください。\n",
        "最後の逆温度を指定する方法はbeta_maxを指定することでできます。"
      ],
      "metadata": {
        "id": "mf_G6y2CR30q"
      }
    },
    {
      "cell_type": "code",
      "source": [
        "sampleset = sampler.sample_qubo(qubo, beta_max = 0.1, num_sweeps= 1000, num_reads=1)\n",
        "binary = sampleset.record[0][0]\n",
        "print(binary)"
      ],
      "metadata": {
        "id": "5v5FtgR7UvCk"
      },
      "execution_count": null,
      "outputs": []
    },
    {
      "cell_type": "markdown",
      "source": [
        "samplesetからはrecordを利用してスピンの向きを調べることができます。ここで出力は0,1になってしまいますので、ちょっと加工して±1に直します。"
      ],
      "metadata": {
        "id": "Jq4qvPEvVsnF"
      }
    },
    {
      "cell_type": "code",
      "source": [
        "spin = 2*binary-1\n",
        "print(spin)"
      ],
      "metadata": {
        "id": "P_rsz7iVV1ym"
      },
      "execution_count": null,
      "outputs": []
    },
    {
      "cell_type": "markdown",
      "source": [
        "この平均値と分散を調べることでスピンの全体的な様子を見てみましょう。"
      ],
      "metadata": {
        "id": "FNX4QyicV9t5"
      }
    },
    {
      "cell_type": "code",
      "source": [
        "print(spin.mean(),spin.var())"
      ],
      "metadata": {
        "id": "cdFZyhcHjKHc"
      },
      "execution_count": null,
      "outputs": []
    },
    {
      "cell_type": "markdown",
      "source": [
        "ただ平均値を調べるとわかりますが、０付近であったりすると、あまり上下の傾向がはっきりしていないのだな、立ち上がっていないのだな、というのが伺えます。案外と揃っていません。\n",
        "つまり逆温度0.1程度ですと温度で言うと10ですから、結構な熱の影響を受けていて、全体的にバラバラなんだなと言うことが伺えます。\n",
        "このバラバラ度合いと、揃っている度合いを調べると変化がわかるでしょう。揃っているかどうかが大事なので向きを気にしない（±を気にしない)と言うことで二乗を計算しておくと良いでしょう。\n"
      ],
      "metadata": {
        "id": "9Y5dIZMym5qc"
      }
    },
    {
      "cell_type": "markdown",
      "source": [
        "これをいくつかの逆温度でしらべていきましょう。\n",
        "いくつかの逆温度をリストで設定しようと考えますが、しかしそれを手打ちするのは大変ですから\n",
        "np.linspaceを利用します。"
      ],
      "metadata": {
        "id": "5JvNsQM_jQsH"
      }
    },
    {
      "cell_type": "code",
      "source": [
        "beta_list = np.linspace(0.1,2.0,20)"
      ],
      "metadata": {
        "id": "1HfF4xpdTu66"
      },
      "execution_count": null,
      "outputs": []
    },
    {
      "cell_type": "markdown",
      "source": [
        "これで0.1から2.0まで10個の数値のリストを作ることができます。"
      ],
      "metadata": {
        "id": "_SKBSvNBTvWP"
      }
    },
    {
      "cell_type": "markdown",
      "source": [
        "それぞれの逆温度において、シミュレーテッドアニーリングを用いて、その逆温度の状態をシミュレーションしてみました。"
      ],
      "metadata": {
        "id": "D3IVakimlpzD"
      }
    },
    {
      "cell_type": "code",
      "source": [
        "num_reads = 1000\n",
        "mag_list = []\n",
        "var_list = []\n",
        "\n",
        "for beta in beta_list:\n",
        "  m2_list = []\n",
        "  sampleset = sampler.sample_qubo(qubo, beta_max=beta, num_sweeps= 1000, num_reads=num_reads)\n",
        "  for k in range(num_reads):\n",
        "    binary = sampleset.record[k][0]\n",
        "    spin = 2*binary-1\n",
        "    m2 = spin.mean()**2\n",
        "    m2_list.append(m2)\n",
        "  m2_array = np.array(m2_list)\n",
        "  print(beta,m2_array.mean(),m2_array.var())\n",
        "  mag_list.append(m2_array.mean())\n",
        "  var_list.append(m2_array.var())"
      ],
      "metadata": {
        "id": "8jL2m-lFUdMC"
      },
      "execution_count": null,
      "outputs": []
    },
    {
      "cell_type": "markdown",
      "source": [
        "ある程度の時間が経過しましたけど、たくさんのデータをとることができました。"
      ],
      "metadata": {
        "id": "Tu-ej5_5lkOd"
      }
    },
    {
      "cell_type": "markdown",
      "source": [
        "それではその結果をbetaごとにプロットしてみましょう。\n",
        "matplotlibを利用して結果を表示することができます。"
      ],
      "metadata": {
        "id": "qofCsnJYnZKg"
      }
    },
    {
      "cell_type": "code",
      "source": [
        "plt.plot(beta_list,mag_list)\n",
        "plt.show()"
      ],
      "metadata": {
        "id": "sYjzAzSjRqoO"
      },
      "execution_count": null,
      "outputs": []
    },
    {
      "cell_type": "markdown",
      "source": [
        "分散を調べましたが、これは平均を調べた値がどれだけぶれているかの度合いですので、誤差棒としてプロットしておきましょう。分散に対してルートを取り、標本数N-1のルートで割るというのが誤差の計算方法です。"
      ],
      "metadata": {
        "id": "Cem9LYEbsh61"
      }
    },
    {
      "cell_type": "code",
      "source": [
        "err = np.sqrt(var_list)/np.sqrt(num_reads-1)"
      ],
      "metadata": {
        "id": "MqTxtHkLvQVc"
      },
      "execution_count": null,
      "outputs": []
    },
    {
      "cell_type": "code",
      "source": [
        "plt.errorbar(beta_list, mag_list, yerr = err, fmt='o', markersize=5)\n",
        "plt.show()"
      ],
      "metadata": {
        "id": "8b_1qxGqRqi5"
      },
      "execution_count": null,
      "outputs": []
    },
    {
      "cell_type": "markdown",
      "source": [
        "このようにして調べられた磁化（スピンの平均値）の２乗が急激に立ち上がっているのが観測されますね。\n",
        "そのような現象を相転移といいます。\n",
        "磁石の温度を変えると、バラバラな状態から綺麗に揃った状態に相転移するというわけです。\n",
        "そうした現象を調べるのに、微視的なメカニズムを考慮したエネルギーを考えて、シミュレーションすると自然現象の結果を調べることができます。"
      ],
      "metadata": {
        "id": "IWY7mAmQw0E-"
      }
    },
    {
      "cell_type": "markdown",
      "source": [
        "量子アニーリングでは逆温度を変える代わりに横磁場というパラメータを変化させます。\n"
      ],
      "metadata": {
        "id": "poPuwibRxt-Y"
      }
    },
    {
      "cell_type": "code",
      "source": [
        "sampler = SQASampler()"
      ],
      "metadata": {
        "id": "2UekB5CCx1Ax"
      },
      "execution_count": null,
      "outputs": []
    },
    {
      "cell_type": "markdown",
      "source": [
        "横磁場の値はgammaで指定されます。同じようにlistを組んで一斉に調べていくとしましょう。"
      ],
      "metadata": {
        "id": "vSbaHFU5x52R"
      }
    },
    {
      "cell_type": "code",
      "source": [
        "gamma_list = np.linspace(0.1,0.9,20)"
      ],
      "metadata": {
        "id": "fWvs-ROux_H8"
      },
      "execution_count": null,
      "outputs": []
    },
    {
      "cell_type": "markdown",
      "source": [
        "横磁場の制御のやり方は少し独特ですが、（横磁場の強さ、ステップ数）という数字をまとめたリストを用意します。横磁場の強さは0.0から1.0（ただし0.0が最も強く、1.0が最も弱い）で指定されます。\n",
        "途中の値を大きくしたり小さくしたりスケジュールを組むこともできます。\n",
        "\n"
      ],
      "metadata": {
        "id": "X16xnhjSRm_d"
      }
    },
    {
      "cell_type": "code",
      "source": [
        "num_reads = 1000\n",
        "mag_list = []\n",
        "var_list = []\n",
        "\n",
        "for gamma in gamma_list:\n",
        "  m2_list = []\n",
        "  schedule_list = [(gamma, 0),(gamma, 1000)]\n",
        "  sampleset = sampler.sample_qubo(qubo, schedule=schedule_list, num_reads=num_reads)\n",
        "  for k in range(num_reads):\n",
        "    binary = sampleset.record[k][0]\n",
        "    spin = 2*binary-1\n",
        "    m2 = spin.mean()**2\n",
        "    m2_list.append(m2)\n",
        "  m2_array = np.array(m2_list)\n",
        "  print(beta,m2_array.mean(),m2_array.var())\n",
        "  mag_list.append(m2_array.mean())\n",
        "  var_list.append(m2_array.var())"
      ],
      "metadata": {
        "id": "W6qwvv2OyFCe"
      },
      "execution_count": null,
      "outputs": []
    },
    {
      "cell_type": "markdown",
      "source": [
        "同じように誤差棒をつけて結果をプロットしてみましょう。\n",
        "同じように横磁場でも秩序が壊され、弱めると綺麗に揃う傾向が出ていることがわかります。つまり熱によるダイナミクスと同じように横磁場という重ね合わせの状態を誘発する作用でも同じように秩序を壊すことが確認できます。"
      ],
      "metadata": {
        "id": "OwOwJ-O86JDH"
      }
    },
    {
      "cell_type": "code",
      "source": [
        "err = np.sqrt(var_list)/np.sqrt(num_reads-1)\n",
        "plt.errorbar(gamma_list, mag_list, yerr = err, fmt='o', markersize=5)\n",
        "plt.show()"
      ],
      "metadata": {
        "id": "sDIvpcV-3zIh"
      },
      "execution_count": null,
      "outputs": []
    },
    {
      "cell_type": "markdown",
      "source": [
        "## ホップフィールド模型\n",
        "\n",
        "最後に磁石のこうした秩序形成を利用した人工知能の元祖となるホップフィールド模型を紹介しましょう。\n",
        "まずは手書き文字画像を準備してみます。"
      ],
      "metadata": {
        "id": "J7o3RadF6fMO"
      }
    },
    {
      "cell_type": "code",
      "source": [
        "from sklearn.datasets import load_digits"
      ],
      "metadata": {
        "id": "16HHD_Rsj_XR"
      },
      "execution_count": null,
      "outputs": []
    },
    {
      "cell_type": "code",
      "source": [
        "digit=load_digits()"
      ],
      "metadata": {
        "id": "TMnmBgFTk-MB"
      },
      "execution_count": null,
      "outputs": []
    },
    {
      "cell_type": "markdown",
      "source": [
        "load_digit()で0-9の10種類の手書き文字による数字のデータセットを呼び出すことができます。\n",
        "そのうちK個だけデータをピックアップしてみます。"
      ],
      "metadata": {
        "id": "tSNCnAxR6rDp"
      }
    },
    {
      "cell_type": "code",
      "source": [
        "K = 2\n",
        "ind = np.random.choice(len(digit.data), K, replace=False)"
      ],
      "metadata": {
        "id": "dCP508y-lBdL"
      },
      "execution_count": null,
      "outputs": []
    },
    {
      "cell_type": "markdown",
      "source": [
        "このrandom.choiceで全てデータ数を最大値として、K個だけ番号を選び、その番号の画像を取り出すことができます。"
      ],
      "metadata": {
        "id": "Xe0FuRqX61U-"
      }
    },
    {
      "cell_type": "code",
      "source": [
        "data = digit.data[ind]"
      ],
      "metadata": {
        "id": "XqvbCPT2lLA5"
      },
      "execution_count": null,
      "outputs": []
    },
    {
      "cell_type": "markdown",
      "source": [
        "このデータを２値の白黒画像に直します。\n",
        "そのために利用するのがnp.whereで、条件にはまる要素に、のちに続く値を返し、そうでない場合には続く数値を返す関数です。"
      ],
      "metadata": {
        "id": "Q34h8ss17YKr"
      }
    },
    {
      "cell_type": "code",
      "source": [
        "binary_data = np.where(data > np.mean(data), 1, -1)"
      ],
      "metadata": {
        "id": "7ULtsqhPlV8_"
      },
      "execution_count": null,
      "outputs": []
    },
    {
      "cell_type": "markdown",
      "source": [
        "この結果を見てみれば、何が起きたかは一目瞭然かと思います。\n",
        "ここでrange(K)は、K個の数値を羅列したlistを作成してくれます。"
      ],
      "metadata": {
        "id": "YI75zRoT81Nh"
      }
    },
    {
      "cell_type": "code",
      "source": [
        "N = 8\n",
        "for k in range(K):\n",
        "  plt.imshow(binary_data[k,:].reshape(N,N))\n",
        "  plt.show()"
      ],
      "metadata": {
        "id": "j23wKSvulbmH"
      },
      "execution_count": null,
      "outputs": []
    },
    {
      "cell_type": "markdown",
      "source": [
        "plt.imshow()で2次元の配列（行列）を渡すと数値に応じた画像表示をしてくれます。\n",
        "さてこの画像をイジング模型を用いて記憶させましょう！"
      ],
      "metadata": {
        "id": "eF3eJGuq8_Q4"
      }
    },
    {
      "cell_type": "code",
      "source": [
        "Jmat = np.zeros([N*N,N*N])\n",
        "for k in range(K):\n",
        "  for i1 in range(N):\n",
        "    for j1 in range(N):\n",
        "      for i2 in range(N):\n",
        "        for j2 in range(N):\n",
        "          Jmat[i1+N*j1,i2+N*j2] -= binary_data[k,i1+N*j1]*binary_data[k,i2+N*j2]/K\n",
        "\n",
        "hvec = np.zeros(N*N)"
      ],
      "metadata": {
        "id": "zv9XAo3EmSwE"
      },
      "execution_count": null,
      "outputs": []
    },
    {
      "cell_type": "markdown",
      "source": [
        "1画素1画素をスピンであるとして、そのスピンがどうあるべきかをJmatに書き込むというやり方で画像を記録します。\n",
        "これをquboに直してみます。"
      ],
      "metadata": {
        "id": "y2dHw5SO_dFW"
      }
    },
    {
      "cell_type": "code",
      "source": [
        "model = dimod.BinaryQuadraticModel(hvec, Jmat, 0.0, vartype='SPIN')\n",
        "qubo, offset = model.to_qubo()"
      ],
      "metadata": {
        "id": "LXQDMqAsnUzL"
      },
      "execution_count": null,
      "outputs": []
    },
    {
      "cell_type": "markdown",
      "source": [
        "まずは一度これで画像が想起できるのか調べてみましょう。"
      ],
      "metadata": {
        "id": "omeOpdPnAXBM"
      }
    },
    {
      "cell_type": "code",
      "source": [
        "sampleset = sampler.sample_qubo(qubo, num_reads=10)"
      ],
      "metadata": {
        "id": "StX4HVbznzmT"
      },
      "execution_count": null,
      "outputs": []
    },
    {
      "cell_type": "markdown",
      "source": [
        "いくつか量子アニーリングを実行してみたところ、うまく再現できているのか。その出力結果をいくつか出してみましょう。"
      ],
      "metadata": {
        "id": "j2m1cq6vAdWQ"
      }
    },
    {
      "cell_type": "code",
      "source": [
        "for k in range(len(sampleset.record)):\n",
        "  res_image = sampleset.record[k][0]\n",
        "  plt.imshow(res_image.reshape(N,N))\n",
        "  plt.show()"
      ],
      "metadata": {
        "id": "Ik938T6OoI8e"
      },
      "execution_count": null,
      "outputs": []
    },
    {
      "cell_type": "markdown",
      "source": [
        "無事に出力できましたね。\n",
        "さてこれはいくつまで記憶することができるのか？\n",
        "などなど気になることがいっぱいありますね。\n",
        "そこからニューラルネットワークの統計力学的な研究が始まったのです。"
      ],
      "metadata": {
        "id": "yq5RDoWDAnGT"
      }
    }
  ]
}